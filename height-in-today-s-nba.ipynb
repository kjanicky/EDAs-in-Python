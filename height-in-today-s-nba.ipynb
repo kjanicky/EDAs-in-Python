{
 "cells": [
  {
   "cell_type": "code",
   "execution_count": 1,
   "id": "6a0abbce",
   "metadata": {
    "_cell_guid": "b1076dfc-b9ad-4769-8c92-a6c4dae69d19",
    "_uuid": "8f2839f25d086af736a60e9eeb907d3b93b6e0e5",
    "execution": {
     "iopub.execute_input": "2023-12-30T19:09:06.861699Z",
     "iopub.status.busy": "2023-12-30T19:09:06.861101Z",
     "iopub.status.idle": "2023-12-30T19:09:07.150162Z",
     "shell.execute_reply": "2023-12-30T19:09:07.148938Z"
    },
    "papermill": {
     "duration": 0.300399,
     "end_time": "2023-12-30T19:09:07.152760",
     "exception": false,
     "start_time": "2023-12-30T19:09:06.852361",
     "status": "completed"
    },
    "tags": []
   },
   "outputs": [
    {
     "name": "stdout",
     "output_type": "stream",
     "text": [
      "/kaggle/input/nba-players-data/all_seasons.csv\n"
     ]
    }
   ],
   "source": [
    "# This Python 3 environment comes with many helpful analytics libraries installed\n",
    "# It is defined by the kaggle/python Docker image: https://github.com/kaggle/docker-python\n",
    "# For example, here's several helpful packages to load\n",
    "\n",
    "import numpy as np # linear algebra\n",
    "import pandas as pd # data processing, CSV file I/O (e.g. pd.read_csv)\n",
    "\n",
    "# Input data files are available in the read-only \"../input/\" directory\n",
    "# For example, running this (by clicking run or pressing Shift+Enter) will list all files under the input directory\n",
    "\n",
    "import os\n",
    "for dirname, _, filenames in os.walk('/kaggle/input'):\n",
    "    for filename in filenames:\n",
    "        print(os.path.join(dirname, filename))\n",
    "\n",
    "# You can write up to 20GB to the current directory (/kaggle/working/) that gets preserved as output when you create a version using \"Save & Run All\" \n",
    "# You can also write temporary files to /kaggle/temp/, but they won't be saved outside of the current session"
   ]
  },
  {
   "cell_type": "code",
   "execution_count": 2,
   "id": "000e7857",
   "metadata": {
    "execution": {
     "iopub.execute_input": "2023-12-30T19:09:07.168429Z",
     "iopub.status.busy": "2023-12-30T19:09:07.167963Z",
     "iopub.status.idle": "2023-12-30T19:09:07.173139Z",
     "shell.execute_reply": "2023-12-30T19:09:07.172495Z"
    },
    "papermill": {
     "duration": 0.015431,
     "end_time": "2023-12-30T19:09:07.175238",
     "exception": false,
     "start_time": "2023-12-30T19:09:07.159807",
     "status": "completed"
    },
    "tags": []
   },
   "outputs": [],
   "source": [
    "import matplotlib.pyplot as plt\n"
   ]
  },
  {
   "cell_type": "markdown",
   "id": "78f1b91b",
   "metadata": {
    "papermill": {
     "duration": 0.006599,
     "end_time": "2023-12-30T19:09:07.189005",
     "exception": false,
     "start_time": "2023-12-30T19:09:07.182406",
     "status": "completed"
    },
    "tags": []
   },
   "source": [
    "First I load my data as NBA DataFrame then I'm checking data if there are some missing values, shape of my dataframe and finally which data types are my variables "
   ]
  },
  {
   "cell_type": "code",
   "execution_count": 3,
   "id": "d7baadbd",
   "metadata": {
    "execution": {
     "iopub.execute_input": "2023-12-30T19:09:07.203851Z",
     "iopub.status.busy": "2023-12-30T19:09:07.203341Z",
     "iopub.status.idle": "2023-12-30T19:09:07.269942Z",
     "shell.execute_reply": "2023-12-30T19:09:07.269292Z"
    },
    "papermill": {
     "duration": 0.076949,
     "end_time": "2023-12-30T19:09:07.272532",
     "exception": false,
     "start_time": "2023-12-30T19:09:07.195583",
     "status": "completed"
    },
    "tags": []
   },
   "outputs": [
    {
     "name": "stdout",
     "output_type": "stream",
     "text": [
      "(12844, 22)\n",
      "Unnamed: 0              0\n",
      "player_name             0\n",
      "team_abbreviation       0\n",
      "age                     0\n",
      "player_height           0\n",
      "player_weight           0\n",
      "college              1854\n",
      "country                 0\n",
      "draft_year              0\n",
      "draft_round             0\n",
      "draft_number            0\n",
      "gp                      0\n",
      "pts                     0\n",
      "reb                     0\n",
      "ast                     0\n",
      "net_rating              0\n",
      "oreb_pct                0\n",
      "dreb_pct                0\n",
      "usg_pct                 0\n",
      "ts_pct                  0\n",
      "ast_pct                 0\n",
      "season                  0\n",
      "dtype: int64\n",
      "Unnamed: 0             int64\n",
      "player_name           object\n",
      "team_abbreviation     object\n",
      "age                  float64\n",
      "player_height        float64\n",
      "player_weight        float64\n",
      "college               object\n",
      "country               object\n",
      "draft_year            object\n",
      "draft_round           object\n",
      "draft_number          object\n",
      "gp                     int64\n",
      "pts                  float64\n",
      "reb                  float64\n",
      "ast                  float64\n",
      "net_rating           float64\n",
      "oreb_pct             float64\n",
      "dreb_pct             float64\n",
      "usg_pct              float64\n",
      "ts_pct               float64\n",
      "ast_pct              float64\n",
      "season                object\n",
      "dtype: object\n"
     ]
    }
   ],
   "source": [
    "NBA = pd.DataFrame(pd.read_csv('/kaggle/input/nba-players-data/all_seasons.csv'))\n",
    "print(NBA.shape)\n",
    "print(NBA.isnull().sum()) #checking the shape of dataframe\n",
    "print(NBA.dtypes) #checking if there is some variables that I have to change their data type"
   ]
  },
  {
   "cell_type": "markdown",
   "id": "b0272cac",
   "metadata": {
    "papermill": {
     "duration": 0.00654,
     "end_time": "2023-12-30T19:09:07.286342",
     "exception": false,
     "start_time": "2023-12-30T19:09:07.279802",
     "status": "completed"
    },
    "tags": []
   },
   "source": []
  },
  {
   "cell_type": "markdown",
   "id": "566b4e0a",
   "metadata": {
    "papermill": {
     "duration": 0.006553,
     "end_time": "2023-12-30T19:09:07.299782",
     "exception": false,
     "start_time": "2023-12-30T19:09:07.293229",
     "status": "completed"
    },
    "tags": []
   },
   "source": [
    "I'm going to change draft_number to numeric type for purpose of Sorting them later for my observations"
   ]
  },
  {
   "cell_type": "code",
   "execution_count": 4,
   "id": "9f95863a",
   "metadata": {
    "execution": {
     "iopub.execute_input": "2023-12-30T19:09:07.315022Z",
     "iopub.status.busy": "2023-12-30T19:09:07.314563Z",
     "iopub.status.idle": "2023-12-30T19:09:07.333943Z",
     "shell.execute_reply": "2023-12-30T19:09:07.332806Z"
    },
    "papermill": {
     "duration": 0.029681,
     "end_time": "2023-12-30T19:09:07.336240",
     "exception": false,
     "start_time": "2023-12-30T19:09:07.306559",
     "status": "completed"
    },
    "tags": []
   },
   "outputs": [],
   "source": [
    "def undraft_number(draft_number):\n",
    "    undraft_number_dict = {\n",
    "        'Undrafted': '61',\n",
    "        '0': '61',\n",
    "    }\n",
    "    try:\n",
    "        return undraft_number_dict[draft_number]\n",
    "    except:\n",
    "        return draft_number\n",
    "NBA.draft_number = NBA.draft_number.apply(undraft_number) #cleaning the draft_number setting number to 61 if player was undrafted\n",
    "NBA['draft_number'] = NBA.draft_number.astype('int64') # changing draft_number to numeric"
   ]
  },
  {
   "cell_type": "markdown",
   "id": "391fdabf",
   "metadata": {
    "papermill": {
     "duration": 0.006617,
     "end_time": "2023-12-30T19:09:07.350353",
     "exception": false,
     "start_time": "2023-12-30T19:09:07.343736",
     "status": "completed"
    },
    "tags": []
   },
   "source": []
  },
  {
   "cell_type": "markdown",
   "id": "9d24b64f",
   "metadata": {
    "papermill": {
     "duration": 0.006378,
     "end_time": "2023-12-30T19:09:07.363614",
     "exception": false,
     "start_time": "2023-12-30T19:09:07.357236",
     "status": "completed"
    },
    "tags": []
   },
   "source": [
    "My next move is to rename columns for better understanding which abbreviation stands for which statistic. Adding new columns season_start and season_end for easier subsetting later on."
   ]
  },
  {
   "cell_type": "code",
   "execution_count": 5,
   "id": "544aa3f8",
   "metadata": {
    "execution": {
     "iopub.execute_input": "2023-12-30T19:09:07.378368Z",
     "iopub.status.busy": "2023-12-30T19:09:07.378014Z",
     "iopub.status.idle": "2023-12-30T19:09:07.400371Z",
     "shell.execute_reply": "2023-12-30T19:09:07.399782Z"
    },
    "papermill": {
     "duration": 0.031873,
     "end_time": "2023-12-30T19:09:07.402128",
     "exception": false,
     "start_time": "2023-12-30T19:09:07.370255",
     "status": "completed"
    },
    "tags": []
   },
   "outputs": [],
   "source": [
    "NBA.rename(columns = {'player_height':'height', 'player_weight':'weight', \n",
    "                     'pts':'avg_pts', 'reb':'avg_reb', 'ast':'avg_ast','gp':'games_played'}, inplace = True) #renaming columns because they are averages of player's pts,reb,assists\n",
    "NBA['height_in_feets'] = (NBA['height'] / 30.28).round(1)\n",
    "NBA['season_start'] = NBA['season'].str[:4]\n",
    "NBA['season_end'] =  NBA['season'].str[:2] + NBA['season'].str[5:] #adding columns for easier subseting"
   ]
  },
  {
   "cell_type": "markdown",
   "id": "6e97adf5",
   "metadata": {
    "papermill": {
     "duration": 0.00653,
     "end_time": "2023-12-30T19:09:07.415907",
     "exception": false,
     "start_time": "2023-12-30T19:09:07.409377",
     "status": "completed"
    },
    "tags": []
   },
   "source": [
    "Then I check and make a plot about how height affects position in draft "
   ]
  },
  {
   "cell_type": "code",
   "execution_count": 6,
   "id": "a8acc081",
   "metadata": {
    "execution": {
     "iopub.execute_input": "2023-12-30T19:09:07.431655Z",
     "iopub.status.busy": "2023-12-30T19:09:07.430521Z",
     "iopub.status.idle": "2023-12-30T19:09:07.452099Z",
     "shell.execute_reply": "2023-12-30T19:09:07.450736Z"
    },
    "papermill": {
     "duration": 0.031617,
     "end_time": "2023-12-30T19:09:07.454251",
     "exception": false,
     "start_time": "2023-12-30T19:09:07.422634",
     "status": "completed"
    },
    "tags": []
   },
   "outputs": [
    {
     "name": "stdout",
     "output_type": "stream",
     "text": [
      "                   height\n",
      "Position in Draft        \n",
      "1                  205.98\n",
      "2                  204.19\n",
      "3                  201.97\n",
      "4                  202.19\n",
      "5                  201.00\n",
      "6                  203.71\n",
      "7                  200.73\n",
      "8                  201.32\n",
      "9                  203.24\n",
      "10                 200.50\n",
      "11                 202.19\n",
      "12                 203.03\n",
      "13                 200.46\n",
      "14                 200.87\n",
      "15                 202.76\n",
      "16                 200.42\n",
      "17                 202.41\n",
      "18                 201.26\n",
      "19                 201.11\n",
      "20                 201.45\n"
     ]
    }
   ],
   "source": [
    "draft_and_height = NBA[['height','draft_number']] \\\n",
    "    .groupby('draft_number') \\\n",
    "    .mean()\\\n",
    "    .sort_values('draft_number',ascending=True)\\\n",
    "    .head(20)\\\n",
    "    .round(2)\n",
    "    \n",
    "draft_and_height.index.name = 'Position in Draft'    \n",
    "print(draft_and_height)"
   ]
  },
  {
   "cell_type": "markdown",
   "id": "f6d80e07",
   "metadata": {
    "papermill": {
     "duration": 0.006797,
     "end_time": "2023-12-30T19:09:07.468090",
     "exception": false,
     "start_time": "2023-12-30T19:09:07.461293",
     "status": "completed"
    },
    "tags": []
   },
   "source": [
    "We can clearly see that teams tend to draft taller players at first 3 position of the draft."
   ]
  },
  {
   "cell_type": "code",
   "execution_count": 7,
   "id": "72aa6922",
   "metadata": {
    "execution": {
     "iopub.execute_input": "2023-12-30T19:09:07.483071Z",
     "iopub.status.busy": "2023-12-30T19:09:07.482729Z",
     "iopub.status.idle": "2023-12-30T19:09:07.676101Z",
     "shell.execute_reply": "2023-12-30T19:09:07.675239Z"
    },
    "papermill": {
     "duration": 0.203601,
     "end_time": "2023-12-30T19:09:07.678507",
     "exception": false,
     "start_time": "2023-12-30T19:09:07.474906",
     "status": "completed"
    },
    "tags": []
   },
   "outputs": [
    {
     "data": {
      "image/png": "[encoded data removed]",
      "text/plain": [
       "<Figure size 640x480 with 1 Axes>"
      ]
     },
     "metadata": {},
     "output_type": "display_data"
    }
   ],
   "source": [
    "plt.plot(draft_and_height['height'],color = 'black')\n",
    "plt.xlabel(\"Draft Position\")\n",
    "plt.ylabel(\"Average height in cm \")\n",
    "plt.title('Draft position by Height')\n",
    "plt.xticks(ticks=range(0, len(draft_and_height), 5))\n",
    "plt.show()"
   ]
  },
  {
   "cell_type": "markdown",
   "id": "0bdcf54e",
   "metadata": {
    "papermill": {
     "duration": 0.007053,
     "end_time": "2023-12-30T19:09:07.693171",
     "exception": false,
     "start_time": "2023-12-30T19:09:07.686118",
     "status": "completed"
    },
    "tags": []
   },
   "source": []
  },
  {
   "cell_type": "markdown",
   "id": "20d0fa9a",
   "metadata": {
    "papermill": {
     "duration": 0.007012,
     "end_time": "2023-12-30T19:09:07.707582",
     "exception": false,
     "start_time": "2023-12-30T19:09:07.700570",
     "status": "completed"
    },
    "tags": []
   },
   "source": []
  },
  {
   "cell_type": "markdown",
   "id": "2de34573",
   "metadata": {
    "papermill": {
     "duration": 0.006949,
     "end_time": "2023-12-30T19:09:07.721872",
     "exception": false,
     "start_time": "2023-12-30T19:09:07.714923",
     "status": "completed"
    },
    "tags": []
   },
   "source": [
    "Nextly I check whether the average height of the player in the NBA changes across the seasons"
   ]
  },
  {
   "cell_type": "code",
   "execution_count": 8,
   "id": "9e51fcc7",
   "metadata": {
    "execution": {
     "iopub.execute_input": "2023-12-30T19:09:07.737958Z",
     "iopub.status.busy": "2023-12-30T19:09:07.737372Z",
     "iopub.status.idle": "2023-12-30T19:09:07.749022Z",
     "shell.execute_reply": "2023-12-30T19:09:07.747762Z"
    },
    "papermill": {
     "duration": 0.021727,
     "end_time": "2023-12-30T19:09:07.750743",
     "exception": false,
     "start_time": "2023-12-30T19:09:07.729016",
     "status": "completed"
    },
    "tags": []
   },
   "outputs": [
    {
     "name": "stdout",
     "output_type": "stream",
     "text": [
      "         height\n",
      "season         \n",
      "1996-97  200.99\n",
      "1997-98  200.62\n",
      "1998-99  200.90\n",
      "1999-00  200.92\n",
      "2000-01  200.75\n",
      "2001-02  201.02\n",
      "2002-03  201.52\n",
      "2003-04  201.32\n",
      "2004-05  201.25\n",
      "2005-06  200.92\n",
      "2006-07  200.70\n",
      "2007-08  200.85\n",
      "2008-09  201.20\n",
      "2009-10  200.87\n",
      "2010-11  201.22\n",
      "2011-12  200.83\n",
      "2012-13  200.77\n",
      "2013-14  200.77\n",
      "2014-15  200.84\n",
      "2015-16  200.95\n",
      "2016-17  200.92\n",
      "2017-18  200.46\n",
      "2018-19  200.54\n",
      "2019-20  198.94\n",
      "2020-21  198.91\n",
      "2021-22  198.35\n",
      "2022-23  199.27\n"
     ]
    }
   ],
   "source": [
    "height_across_seasons = NBA[['height','season']]\\\n",
    "     .groupby('season')\\\n",
    "     .mean()\\\n",
    "     .sort_values('season',ascending=True)\\\n",
    "     .round(2)\n",
    "\n",
    "print(height_across_seasons)"
   ]
  },
  {
   "cell_type": "markdown",
   "id": "8e90453b",
   "metadata": {
    "papermill": {
     "duration": 0.006994,
     "end_time": "2023-12-30T19:09:07.765131",
     "exception": false,
     "start_time": "2023-12-30T19:09:07.758137",
     "status": "completed"
    },
    "tags": []
   },
   "source": []
  },
  {
   "cell_type": "code",
   "execution_count": 9,
   "id": "52e601c1",
   "metadata": {
    "execution": {
     "iopub.execute_input": "2023-12-30T19:09:07.781301Z",
     "iopub.status.busy": "2023-12-30T19:09:07.780736Z",
     "iopub.status.idle": "2023-12-30T19:09:08.071889Z",
     "shell.execute_reply": "2023-12-30T19:09:08.070884Z"
    },
    "papermill": {
     "duration": 0.301257,
     "end_time": "2023-12-30T19:09:08.073621",
     "exception": false,
     "start_time": "2023-12-30T19:09:07.772364",
     "status": "completed"
    },
    "tags": []
   },
   "outputs": [
    {
     "data": {
      "image/png": "[encoded data removed]",
      "text/plain": [
       "<Figure size 1000x600 with 1 Axes>"
      ]
     },
     "metadata": {},
     "output_type": "display_data"
    }
   ],
   "source": [
    "plt.figure(figsize=(10,6))\n",
    "plt.plot(height_across_seasons,color = 'green')\n",
    "plt.xlabel('Season')\n",
    "plt.ylabel('Average Height in cm')\n",
    "plt.title('Height across the seasons')\n",
    "plt.xticks(rotation = 45)\n",
    "plt.show()"
   ]
  },
  {
   "cell_type": "markdown",
   "id": "cbf5ed83",
   "metadata": {
    "papermill": {
     "duration": 0.009419,
     "end_time": "2023-12-30T19:09:08.091338",
     "exception": false,
     "start_time": "2023-12-30T19:09:08.081919",
     "status": "completed"
    },
    "tags": []
   },
   "source": []
  },
  {
   "cell_type": "markdown",
   "id": "29d26215",
   "metadata": {
    "papermill": {
     "duration": 0.007728,
     "end_time": "2023-12-30T19:09:08.107146",
     "exception": false,
     "start_time": "2023-12-30T19:09:08.099418",
     "status": "completed"
    },
    "tags": []
   },
   "source": []
  },
  {
   "cell_type": "markdown",
   "id": "89bd6aa2",
   "metadata": {
    "papermill": {
     "duration": 0.007762,
     "end_time": "2023-12-30T19:09:08.123006",
     "exception": false,
     "start_time": "2023-12-30T19:09:08.115244",
     "status": "completed"
    },
    "tags": []
   },
   "source": [
    "We can notice the tendency that average height gets slightly lower over the years.\n",
    "Now I want to check the scoring correlation between big players (above 6\"8) and small players (6\"8 and below) to see if 'Bigs' are still relevant in today's league. "
   ]
  },
  {
   "cell_type": "code",
   "execution_count": 10,
   "id": "7669c48c",
   "metadata": {
    "execution": {
     "iopub.execute_input": "2023-12-30T19:09:08.189191Z",
     "iopub.status.busy": "2023-12-30T19:09:08.188061Z",
     "iopub.status.idle": "2023-12-30T19:09:08.207425Z",
     "shell.execute_reply": "2023-12-30T19:09:08.206541Z"
    },
    "papermill": {
     "duration": 0.030634,
     "end_time": "2023-12-30T19:09:08.209242",
     "exception": false,
     "start_time": "2023-12-30T19:09:08.178608",
     "status": "completed"
    },
    "tags": []
   },
   "outputs": [
    {
     "data": {
      "text/html": [
       "<div>\n",
       "<style scoped>\n",
       "    .dataframe tbody tr th:only-of-type {\n",
       "        vertical-align: middle;\n",
       "    }\n",
       "\n",
       "    .dataframe tbody tr th {\n",
       "        vertical-align: top;\n",
       "    }\n",
       "\n",
       "    .dataframe thead th {\n",
       "        text-align: right;\n",
       "    }\n",
       "</style>\n",
       "<table border=\"1\" class=\"dataframe\">\n",
       "  <thead>\n",
       "    <tr style=\"text-align: right;\">\n",
       "      <th></th>\n",
       "      <th>BIG_avg_pts</th>\n",
       "    </tr>\n",
       "    <tr>\n",
       "      <th>season</th>\n",
       "      <th></th>\n",
       "    </tr>\n",
       "  </thead>\n",
       "  <tbody>\n",
       "    <tr>\n",
       "      <th>1996-97</th>\n",
       "      <td>7.5</td>\n",
       "    </tr>\n",
       "    <tr>\n",
       "      <th>1997-98</th>\n",
       "      <td>7.9</td>\n",
       "    </tr>\n",
       "    <tr>\n",
       "      <th>1998-99</th>\n",
       "      <td>6.9</td>\n",
       "    </tr>\n",
       "    <tr>\n",
       "      <th>1999-00</th>\n",
       "      <td>7.4</td>\n",
       "    </tr>\n",
       "    <tr>\n",
       "      <th>2000-01</th>\n",
       "      <td>6.8</td>\n",
       "    </tr>\n",
       "    <tr>\n",
       "      <th>2001-02</th>\n",
       "      <td>6.7</td>\n",
       "    </tr>\n",
       "    <tr>\n",
       "      <th>2002-03</th>\n",
       "      <td>6.8</td>\n",
       "    </tr>\n",
       "    <tr>\n",
       "      <th>2003-04</th>\n",
       "      <td>7.0</td>\n",
       "    </tr>\n",
       "    <tr>\n",
       "      <th>2004-05</th>\n",
       "      <td>7.2</td>\n",
       "    </tr>\n",
       "    <tr>\n",
       "      <th>2005-06</th>\n",
       "      <td>7.2</td>\n",
       "    </tr>\n",
       "    <tr>\n",
       "      <th>2006-07</th>\n",
       "      <td>7.2</td>\n",
       "    </tr>\n",
       "    <tr>\n",
       "      <th>2007-08</th>\n",
       "      <td>7.2</td>\n",
       "    </tr>\n",
       "    <tr>\n",
       "      <th>2008-09</th>\n",
       "      <td>7.5</td>\n",
       "    </tr>\n",
       "    <tr>\n",
       "      <th>2009-10</th>\n",
       "      <td>7.8</td>\n",
       "    </tr>\n",
       "    <tr>\n",
       "      <th>2010-11</th>\n",
       "      <td>7.4</td>\n",
       "    </tr>\n",
       "    <tr>\n",
       "      <th>2011-12</th>\n",
       "      <td>7.3</td>\n",
       "    </tr>\n",
       "    <tr>\n",
       "      <th>2012-13</th>\n",
       "      <td>7.2</td>\n",
       "    </tr>\n",
       "    <tr>\n",
       "      <th>2013-14</th>\n",
       "      <td>7.8</td>\n",
       "    </tr>\n",
       "    <tr>\n",
       "      <th>2014-15</th>\n",
       "      <td>7.9</td>\n",
       "    </tr>\n",
       "    <tr>\n",
       "      <th>2015-16</th>\n",
       "      <td>8.3</td>\n",
       "    </tr>\n",
       "    <tr>\n",
       "      <th>2016-17</th>\n",
       "      <td>8.2</td>\n",
       "    </tr>\n",
       "    <tr>\n",
       "      <th>2017-18</th>\n",
       "      <td>8.3</td>\n",
       "    </tr>\n",
       "    <tr>\n",
       "      <th>2018-19</th>\n",
       "      <td>8.8</td>\n",
       "    </tr>\n",
       "    <tr>\n",
       "      <th>2019-20</th>\n",
       "      <td>9.2</td>\n",
       "    </tr>\n",
       "    <tr>\n",
       "      <th>2020-21</th>\n",
       "      <td>9.1</td>\n",
       "    </tr>\n",
       "    <tr>\n",
       "      <th>2021-22</th>\n",
       "      <td>9.2</td>\n",
       "    </tr>\n",
       "    <tr>\n",
       "      <th>2022-23</th>\n",
       "      <td>9.5</td>\n",
       "    </tr>\n",
       "  </tbody>\n",
       "</table>\n",
       "</div>"
      ],
      "text/plain": [
       "         BIG_avg_pts\n",
       "season              \n",
       "1996-97          7.5\n",
       "1997-98          7.9\n",
       "1998-99          6.9\n",
       "1999-00          7.4\n",
       "2000-01          6.8\n",
       "2001-02          6.7\n",
       "2002-03          6.8\n",
       "2003-04          7.0\n",
       "2004-05          7.2\n",
       "2005-06          7.2\n",
       "2006-07          7.2\n",
       "2007-08          7.2\n",
       "2008-09          7.5\n",
       "2009-10          7.8\n",
       "2010-11          7.4\n",
       "2011-12          7.3\n",
       "2012-13          7.2\n",
       "2013-14          7.8\n",
       "2014-15          7.9\n",
       "2015-16          8.3\n",
       "2016-17          8.2\n",
       "2017-18          8.3\n",
       "2018-19          8.8\n",
       "2019-20          9.2\n",
       "2020-21          9.1\n",
       "2021-22          9.2\n",
       "2022-23          9.5"
      ]
     },
     "execution_count": 10,
     "metadata": {},
     "output_type": "execute_result"
    }
   ],
   "source": [
    "small_players = NBA[NBA['height'] <= 207.2]\n",
    "big_players = NBA[NBA['height'] > 207.2]\n",
    "big_players_pts_by_season = big_players[['avg_pts','season']] \\\n",
    "     .groupby('season')\\\n",
    "     .mean()\\\n",
    "     .sort_values('season',ascending=True)\\\n",
    "     .round(1)\\\n",
    "     .rename(columns={'avg_pts':'BIG_avg_pts'})\n",
    "\n",
    "\n",
    "big_players_pts_by_season\n"
   ]
  },
  {
   "cell_type": "code",
   "execution_count": 11,
   "id": "6878c049",
   "metadata": {
    "execution": {
     "iopub.execute_input": "2023-12-30T19:09:08.227841Z",
     "iopub.status.busy": "2023-12-30T19:09:08.227236Z",
     "iopub.status.idle": "2023-12-30T19:09:08.240429Z",
     "shell.execute_reply": "2023-12-30T19:09:08.239605Z"
    },
    "papermill": {
     "duration": 0.024297,
     "end_time": "2023-12-30T19:09:08.242154",
     "exception": false,
     "start_time": "2023-12-30T19:09:08.217857",
     "status": "completed"
    },
    "tags": []
   },
   "outputs": [
    {
     "data": {
      "text/html": [
       "<div>\n",
       "<style scoped>\n",
       "    .dataframe tbody tr th:only-of-type {\n",
       "        vertical-align: middle;\n",
       "    }\n",
       "\n",
       "    .dataframe tbody tr th {\n",
       "        vertical-align: top;\n",
       "    }\n",
       "\n",
       "    .dataframe thead th {\n",
       "        text-align: right;\n",
       "    }\n",
       "</style>\n",
       "<table border=\"1\" class=\"dataframe\">\n",
       "  <thead>\n",
       "    <tr style=\"text-align: right;\">\n",
       "      <th></th>\n",
       "      <th>SMALL_avg_pts</th>\n",
       "    </tr>\n",
       "    <tr>\n",
       "      <th>season</th>\n",
       "      <th></th>\n",
       "    </tr>\n",
       "  </thead>\n",
       "  <tbody>\n",
       "    <tr>\n",
       "      <th>1996-97</th>\n",
       "      <td>8.2</td>\n",
       "    </tr>\n",
       "    <tr>\n",
       "      <th>1997-98</th>\n",
       "      <td>7.9</td>\n",
       "    </tr>\n",
       "    <tr>\n",
       "      <th>1998-99</th>\n",
       "      <td>7.5</td>\n",
       "    </tr>\n",
       "    <tr>\n",
       "      <th>1999-00</th>\n",
       "      <td>8.2</td>\n",
       "    </tr>\n",
       "    <tr>\n",
       "      <th>2000-01</th>\n",
       "      <td>8.2</td>\n",
       "    </tr>\n",
       "    <tr>\n",
       "      <th>2001-02</th>\n",
       "      <td>8.6</td>\n",
       "    </tr>\n",
       "    <tr>\n",
       "      <th>2002-03</th>\n",
       "      <td>8.3</td>\n",
       "    </tr>\n",
       "    <tr>\n",
       "      <th>2003-04</th>\n",
       "      <td>8.1</td>\n",
       "    </tr>\n",
       "    <tr>\n",
       "      <th>2004-05</th>\n",
       "      <td>8.5</td>\n",
       "    </tr>\n",
       "    <tr>\n",
       "      <th>2005-06</th>\n",
       "      <td>8.3</td>\n",
       "    </tr>\n",
       "    <tr>\n",
       "      <th>2006-07</th>\n",
       "      <td>8.6</td>\n",
       "    </tr>\n",
       "    <tr>\n",
       "      <th>2007-08</th>\n",
       "      <td>8.7</td>\n",
       "    </tr>\n",
       "    <tr>\n",
       "      <th>2008-09</th>\n",
       "      <td>8.9</td>\n",
       "    </tr>\n",
       "    <tr>\n",
       "      <th>2009-10</th>\n",
       "      <td>8.9</td>\n",
       "    </tr>\n",
       "    <tr>\n",
       "      <th>2010-11</th>\n",
       "      <td>8.5</td>\n",
       "    </tr>\n",
       "    <tr>\n",
       "      <th>2011-12</th>\n",
       "      <td>8.2</td>\n",
       "    </tr>\n",
       "    <tr>\n",
       "      <th>2012-13</th>\n",
       "      <td>8.2</td>\n",
       "    </tr>\n",
       "    <tr>\n",
       "      <th>2013-14</th>\n",
       "      <td>8.2</td>\n",
       "    </tr>\n",
       "    <tr>\n",
       "      <th>2014-15</th>\n",
       "      <td>8.2</td>\n",
       "    </tr>\n",
       "    <tr>\n",
       "      <th>2015-16</th>\n",
       "      <td>8.4</td>\n",
       "    </tr>\n",
       "    <tr>\n",
       "      <th>2016-17</th>\n",
       "      <td>8.5</td>\n",
       "    </tr>\n",
       "    <tr>\n",
       "      <th>2017-18</th>\n",
       "      <td>8.1</td>\n",
       "    </tr>\n",
       "    <tr>\n",
       "      <th>2018-19</th>\n",
       "      <td>8.6</td>\n",
       "    </tr>\n",
       "    <tr>\n",
       "      <th>2019-20</th>\n",
       "      <td>8.6</td>\n",
       "    </tr>\n",
       "    <tr>\n",
       "      <th>2020-21</th>\n",
       "      <td>8.9</td>\n",
       "    </tr>\n",
       "    <tr>\n",
       "      <th>2021-22</th>\n",
       "      <td>8.1</td>\n",
       "    </tr>\n",
       "    <tr>\n",
       "      <th>2022-23</th>\n",
       "      <td>9.0</td>\n",
       "    </tr>\n",
       "  </tbody>\n",
       "</table>\n",
       "</div>"
      ],
      "text/plain": [
       "         SMALL_avg_pts\n",
       "season                \n",
       "1996-97            8.2\n",
       "1997-98            7.9\n",
       "1998-99            7.5\n",
       "1999-00            8.2\n",
       "2000-01            8.2\n",
       "2001-02            8.6\n",
       "2002-03            8.3\n",
       "2003-04            8.1\n",
       "2004-05            8.5\n",
       "2005-06            8.3\n",
       "2006-07            8.6\n",
       "2007-08            8.7\n",
       "2008-09            8.9\n",
       "2009-10            8.9\n",
       "2010-11            8.5\n",
       "2011-12            8.2\n",
       "2012-13            8.2\n",
       "2013-14            8.2\n",
       "2014-15            8.2\n",
       "2015-16            8.4\n",
       "2016-17            8.5\n",
       "2017-18            8.1\n",
       "2018-19            8.6\n",
       "2019-20            8.6\n",
       "2020-21            8.9\n",
       "2021-22            8.1\n",
       "2022-23            9.0"
      ]
     },
     "execution_count": 11,
     "metadata": {},
     "output_type": "execute_result"
    }
   ],
   "source": [
    "small_players_pts_by_season = small_players[['avg_pts','season']] \\\n",
    "     .groupby('season')\\\n",
    "     .mean()\\\n",
    "     .sort_values('season',ascending=True)\\\n",
    "     .round(1)\\\n",
    "     .rename(columns={'avg_pts':'SMALL_avg_pts'})\n",
    "\n",
    "small_players_pts_by_season"
   ]
  },
  {
   "cell_type": "code",
   "execution_count": 12,
   "id": "cfa0aeef",
   "metadata": {
    "execution": {
     "iopub.execute_input": "2023-12-30T19:09:08.264522Z",
     "iopub.status.busy": "2023-12-30T19:09:08.264223Z",
     "iopub.status.idle": "2023-12-30T19:09:08.577343Z",
     "shell.execute_reply": "2023-12-30T19:09:08.576537Z"
    },
    "papermill": {
     "duration": 0.328131,
     "end_time": "2023-12-30T19:09:08.579416",
     "exception": false,
     "start_time": "2023-12-30T19:09:08.251285",
     "status": "completed"
    },
    "tags": []
   },
   "outputs": [
    {
     "data": {
      "image/png": "[encoded data removed]",
      "text/plain": [
       "<Figure size 900x700 with 1 Axes>"
      ]
     },
     "metadata": {},
     "output_type": "display_data"
    }
   ],
   "source": [
    "plt.figure(figsize=(9,7))\n",
    "plt.plot(big_players_pts_by_season['BIG_avg_pts'],color = 'green',label='above 6\"8')\n",
    "plt.plot(small_players_pts_by_season['SMALL_avg_pts'],color = 'blue',label='6\"8 and below')\n",
    "plt.ylabel('Points per Game')\n",
    "plt.xlabel('Season')\n",
    "plt.title('PPG under 6\"8 vs above 6\"8')\n",
    "plt.legend()\n",
    "plt.xticks(rotation = 45)\n",
    "plt.show()"
   ]
  },
  {
   "cell_type": "markdown",
   "id": "c93f48fe",
   "metadata": {
    "papermill": {
     "duration": 0.009545,
     "end_time": "2023-12-30T19:09:08.598557",
     "exception": false,
     "start_time": "2023-12-30T19:09:08.589012",
     "status": "completed"
    },
    "tags": []
   },
   "source": [
    "We can observe tendency that occurs here - players tends to score points during their games, and secondly we can that 'BIG' guys are doing just fine in today's NBA even better than before!"
   ]
  },
  {
   "cell_type": "markdown",
   "id": "8cd7df0b",
   "metadata": {
    "papermill": {
     "duration": 0.009516,
     "end_time": "2023-12-30T19:09:08.617968",
     "exception": false,
     "start_time": "2023-12-30T19:09:08.608452",
     "status": "completed"
    },
    "tags": []
   },
   "source": []
  },
  {
   "cell_type": "markdown",
   "id": "74c3be5b",
   "metadata": {
    "papermill": {
     "duration": 0.009422,
     "end_time": "2023-12-30T19:09:08.637246",
     "exception": false,
     "start_time": "2023-12-30T19:09:08.627824",
     "status": "completed"
    },
    "tags": []
   },
   "source": [
    "Now it's time to really see if the 'BIGS' are having more impact on winning than the smaller guys.\n",
    "To do that we have subset the players that played minimum 80% of games during the season and take their net rating. Below I did comparison beetween Top 10 Big and small player net rating during those seasons."
   ]
  },
  {
   "cell_type": "markdown",
   "id": "c4b5b576",
   "metadata": {
    "papermill": {
     "duration": 0.009367,
     "end_time": "2023-12-30T19:09:08.656159",
     "exception": false,
     "start_time": "2023-12-30T19:09:08.646792",
     "status": "completed"
    },
    "tags": []
   },
   "source": []
  },
  {
   "cell_type": "code",
   "execution_count": 13,
   "id": "77f93550",
   "metadata": {
    "execution": {
     "iopub.execute_input": "2023-12-30T19:09:08.676686Z",
     "iopub.status.busy": "2023-12-30T19:09:08.676340Z",
     "iopub.status.idle": "2023-12-30T19:09:08.689173Z",
     "shell.execute_reply": "2023-12-30T19:09:08.687953Z"
    },
    "papermill": {
     "duration": 0.025187,
     "end_time": "2023-12-30T19:09:08.690897",
     "exception": false,
     "start_time": "2023-12-30T19:09:08.665710",
     "status": "completed"
    },
    "tags": []
   },
   "outputs": [
    {
     "name": "stdout",
     "output_type": "stream",
     "text": [
      "         player_name  height  net_rating   season\n",
      "8636  Draymond Green  200.66        18.9  2015-16\n",
      "8930   Stephen Curry  190.50        18.3  2015-16\n",
      "9257   Stephen Curry  190.50        17.2  2016-17\n",
      "8303   Stephen Curry  190.50        17.0  2014-15\n",
      "3597   Manu Ginobili  198.12        16.6  2004-05\n",
      "8365  Draymond Green  200.66        16.5  2014-15\n",
      "9519  Draymond Green  200.66        15.9  2016-17\n",
      "8517   Klay Thompson  200.66        15.8  2014-15\n",
      "8960   Klay Thompson  200.66        15.7  2015-16\n",
      "5387    LeBron James  203.20        14.7  2008-09\n"
     ]
    }
   ],
   "source": [
    "valid_small_players = small_players[small_players['games_played'] >= 65] #subseting players that played 80% games \n",
    "valid_big_players = big_players[big_players['games_played'] >= 65]\n",
    "\n",
    "top10_net_rating_small_players = valid_small_players[['player_name','height','net_rating','season']]\\\n",
    "       .sort_values('net_rating',ascending=False)\\\n",
    "       .head(10)\n",
    "\n",
    "print(top10_net_rating_small_players)"
   ]
  },
  {
   "cell_type": "code",
   "execution_count": 14,
   "id": "7fce61fb",
   "metadata": {
    "execution": {
     "iopub.execute_input": "2023-12-30T19:09:08.711917Z",
     "iopub.status.busy": "2023-12-30T19:09:08.711560Z",
     "iopub.status.idle": "2023-12-30T19:09:08.721871Z",
     "shell.execute_reply": "2023-12-30T19:09:08.720761Z"
    },
    "papermill": {
     "duration": 0.02371,
     "end_time": "2023-12-30T19:09:08.724372",
     "exception": false,
     "start_time": "2023-12-30T19:09:08.700662",
     "status": "completed"
    },
    "tags": []
   },
   "outputs": [
    {
     "name": "stdout",
     "output_type": "stream",
     "text": [
      "              player_name  height  net_rating   season\n",
      "9467         JaVale McGee  213.36        18.7  2016-17\n",
      "5207        Kevin Garnett  210.82        17.0  2007-08\n",
      "3638           Tim Duncan  210.82        16.7  2004-05\n",
      "8282         Andrew Bogut  213.36        16.6  2014-15\n",
      "17          Greg Ostertag  218.44        15.9  1996-97\n",
      "11557         Rudy Gobert  215.90        15.9  2020-21\n",
      "9228        Zaza Pachulia  210.82        15.8  2016-17\n",
      "5385           Lamar Odom  208.28        14.8  2008-09\n",
      "5575   Zydrunas Ilgauskas  220.98        14.8  2008-09\n",
      "5211     Kendrick Perkins  208.28        14.6  2007-08\n"
     ]
    }
   ],
   "source": [
    "top10_net_rating_big_players = valid_big_players[['player_name','height','net_rating','season']]\\\n",
    "        .sort_values('net_rating',ascending=False)\\\n",
    "        .head(10)\n",
    "\n",
    "print(top10_net_rating_big_players)"
   ]
  },
  {
   "cell_type": "markdown",
   "id": "3d5b7ae4",
   "metadata": {
    "papermill": {
     "duration": 0.009515,
     "end_time": "2023-12-30T19:09:08.743838",
     "exception": false,
     "start_time": "2023-12-30T19:09:08.734323",
     "status": "completed"
    },
    "tags": []
   },
   "source": []
  },
  {
   "cell_type": "markdown",
   "id": "e3d2546c",
   "metadata": {
    "papermill": {
     "duration": 0.009273,
     "end_time": "2023-12-30T19:09:08.762827",
     "exception": false,
     "start_time": "2023-12-30T19:09:08.753554",
     "status": "completed"
    },
    "tags": []
   },
   "source": [
    "The net rating of TOP 10 best players in that category from 'Smalls' and 'Bigs' does not differ too much, in most cases the difference does not exceed values of 1. To find if Bigs or Smalls are really more impactful we have to see the average production of net ratings by 'Smalls' and 'Bigs'."
   ]
  },
  {
   "cell_type": "code",
   "execution_count": 15,
   "id": "0f27c0f9",
   "metadata": {
    "execution": {
     "iopub.execute_input": "2023-12-30T19:09:08.783547Z",
     "iopub.status.busy": "2023-12-30T19:09:08.783202Z",
     "iopub.status.idle": "2023-12-30T19:09:08.797144Z",
     "shell.execute_reply": "2023-12-30T19:09:08.796281Z"
    },
    "papermill": {
     "duration": 0.026324,
     "end_time": "2023-12-30T19:09:08.798836",
     "exception": false,
     "start_time": "2023-12-30T19:09:08.772512",
     "status": "completed"
    },
    "tags": []
   },
   "outputs": [
    {
     "data": {
      "text/html": [
       "<div>\n",
       "<style scoped>\n",
       "    .dataframe tbody tr th:only-of-type {\n",
       "        vertical-align: middle;\n",
       "    }\n",
       "\n",
       "    .dataframe tbody tr th {\n",
       "        vertical-align: top;\n",
       "    }\n",
       "\n",
       "    .dataframe thead th {\n",
       "        text-align: right;\n",
       "    }\n",
       "</style>\n",
       "<table border=\"1\" class=\"dataframe\">\n",
       "  <thead>\n",
       "    <tr style=\"text-align: right;\">\n",
       "      <th></th>\n",
       "      <th>net_rating</th>\n",
       "    </tr>\n",
       "    <tr>\n",
       "      <th>season</th>\n",
       "      <th></th>\n",
       "    </tr>\n",
       "  </thead>\n",
       "  <tbody>\n",
       "    <tr>\n",
       "      <th>1996-97</th>\n",
       "      <td>1.0</td>\n",
       "    </tr>\n",
       "    <tr>\n",
       "      <th>1997-98</th>\n",
       "      <td>0.4</td>\n",
       "    </tr>\n",
       "    <tr>\n",
       "      <th>1999-00</th>\n",
       "      <td>0.7</td>\n",
       "    </tr>\n",
       "    <tr>\n",
       "      <th>2000-01</th>\n",
       "      <td>1.6</td>\n",
       "    </tr>\n",
       "    <tr>\n",
       "      <th>2001-02</th>\n",
       "      <td>1.0</td>\n",
       "    </tr>\n",
       "    <tr>\n",
       "      <th>2002-03</th>\n",
       "      <td>0.4</td>\n",
       "    </tr>\n",
       "    <tr>\n",
       "      <th>2003-04</th>\n",
       "      <td>1.1</td>\n",
       "    </tr>\n",
       "    <tr>\n",
       "      <th>2004-05</th>\n",
       "      <td>0.3</td>\n",
       "    </tr>\n",
       "    <tr>\n",
       "      <th>2005-06</th>\n",
       "      <td>0.6</td>\n",
       "    </tr>\n",
       "    <tr>\n",
       "      <th>2006-07</th>\n",
       "      <td>0.7</td>\n",
       "    </tr>\n",
       "    <tr>\n",
       "      <th>2007-08</th>\n",
       "      <td>1.0</td>\n",
       "    </tr>\n",
       "    <tr>\n",
       "      <th>2008-09</th>\n",
       "      <td>1.0</td>\n",
       "    </tr>\n",
       "    <tr>\n",
       "      <th>2009-10</th>\n",
       "      <td>0.7</td>\n",
       "    </tr>\n",
       "    <tr>\n",
       "      <th>2010-11</th>\n",
       "      <td>0.3</td>\n",
       "    </tr>\n",
       "    <tr>\n",
       "      <th>2011-12</th>\n",
       "      <td>1.7</td>\n",
       "    </tr>\n",
       "    <tr>\n",
       "      <th>2012-13</th>\n",
       "      <td>1.2</td>\n",
       "    </tr>\n",
       "    <tr>\n",
       "      <th>2013-14</th>\n",
       "      <td>1.1</td>\n",
       "    </tr>\n",
       "    <tr>\n",
       "      <th>2014-15</th>\n",
       "      <td>0.7</td>\n",
       "    </tr>\n",
       "    <tr>\n",
       "      <th>2015-16</th>\n",
       "      <td>-0.1</td>\n",
       "    </tr>\n",
       "    <tr>\n",
       "      <th>2016-17</th>\n",
       "      <td>0.7</td>\n",
       "    </tr>\n",
       "    <tr>\n",
       "      <th>2017-18</th>\n",
       "      <td>0.6</td>\n",
       "    </tr>\n",
       "    <tr>\n",
       "      <th>2018-19</th>\n",
       "      <td>1.7</td>\n",
       "    </tr>\n",
       "    <tr>\n",
       "      <th>2019-20</th>\n",
       "      <td>3.0</td>\n",
       "    </tr>\n",
       "    <tr>\n",
       "      <th>2020-21</th>\n",
       "      <td>3.2</td>\n",
       "    </tr>\n",
       "    <tr>\n",
       "      <th>2021-22</th>\n",
       "      <td>2.8</td>\n",
       "    </tr>\n",
       "    <tr>\n",
       "      <th>2022-23</th>\n",
       "      <td>0.6</td>\n",
       "    </tr>\n",
       "  </tbody>\n",
       "</table>\n",
       "</div>"
      ],
      "text/plain": [
       "         net_rating\n",
       "season             \n",
       "1996-97         1.0\n",
       "1997-98         0.4\n",
       "1999-00         0.7\n",
       "2000-01         1.6\n",
       "2001-02         1.0\n",
       "2002-03         0.4\n",
       "2003-04         1.1\n",
       "2004-05         0.3\n",
       "2005-06         0.6\n",
       "2006-07         0.7\n",
       "2007-08         1.0\n",
       "2008-09         1.0\n",
       "2009-10         0.7\n",
       "2010-11         0.3\n",
       "2011-12         1.7\n",
       "2012-13         1.2\n",
       "2013-14         1.1\n",
       "2014-15         0.7\n",
       "2015-16        -0.1\n",
       "2016-17         0.7\n",
       "2017-18         0.6\n",
       "2018-19         1.7\n",
       "2019-20         3.0\n",
       "2020-21         3.2\n",
       "2021-22         2.8\n",
       "2022-23         0.6"
      ]
     },
     "execution_count": 15,
     "metadata": {},
     "output_type": "execute_result"
    }
   ],
   "source": [
    "net_rating_big = valid_big_players[['season','net_rating']].groupby('season')\\\n",
    "     .mean()\\\n",
    "     .sort_values('season',ascending=True)\\\n",
    "     .round(1)\n",
    "\n",
    "net_rating_big\n"
   ]
  },
  {
   "cell_type": "code",
   "execution_count": 16,
   "id": "652166ee",
   "metadata": {
    "execution": {
     "iopub.execute_input": "2023-12-30T19:09:08.822053Z",
     "iopub.status.busy": "2023-12-30T19:09:08.821354Z",
     "iopub.status.idle": "2023-12-30T19:09:08.834610Z",
     "shell.execute_reply": "2023-12-30T19:09:08.833735Z"
    },
    "papermill": {
     "duration": 0.026988,
     "end_time": "2023-12-30T19:09:08.836408",
     "exception": false,
     "start_time": "2023-12-30T19:09:08.809420",
     "status": "completed"
    },
    "tags": []
   },
   "outputs": [
    {
     "data": {
      "text/html": [
       "<div>\n",
       "<style scoped>\n",
       "    .dataframe tbody tr th:only-of-type {\n",
       "        vertical-align: middle;\n",
       "    }\n",
       "\n",
       "    .dataframe tbody tr th {\n",
       "        vertical-align: top;\n",
       "    }\n",
       "\n",
       "    .dataframe thead th {\n",
       "        text-align: right;\n",
       "    }\n",
       "</style>\n",
       "<table border=\"1\" class=\"dataframe\">\n",
       "  <thead>\n",
       "    <tr style=\"text-align: right;\">\n",
       "      <th></th>\n",
       "      <th>net_rating</th>\n",
       "    </tr>\n",
       "    <tr>\n",
       "      <th>season</th>\n",
       "      <th></th>\n",
       "    </tr>\n",
       "  </thead>\n",
       "  <tbody>\n",
       "    <tr>\n",
       "      <th>1996-97</th>\n",
       "      <td>0.1</td>\n",
       "    </tr>\n",
       "    <tr>\n",
       "      <th>1997-98</th>\n",
       "      <td>0.1</td>\n",
       "    </tr>\n",
       "    <tr>\n",
       "      <th>1999-00</th>\n",
       "      <td>0.6</td>\n",
       "    </tr>\n",
       "    <tr>\n",
       "      <th>2000-01</th>\n",
       "      <td>-0.1</td>\n",
       "    </tr>\n",
       "    <tr>\n",
       "      <th>2001-02</th>\n",
       "      <td>-0.0</td>\n",
       "    </tr>\n",
       "    <tr>\n",
       "      <th>2002-03</th>\n",
       "      <td>0.0</td>\n",
       "    </tr>\n",
       "    <tr>\n",
       "      <th>2003-04</th>\n",
       "      <td>0.2</td>\n",
       "    </tr>\n",
       "    <tr>\n",
       "      <th>2004-05</th>\n",
       "      <td>0.3</td>\n",
       "    </tr>\n",
       "    <tr>\n",
       "      <th>2005-06</th>\n",
       "      <td>-0.4</td>\n",
       "    </tr>\n",
       "    <tr>\n",
       "      <th>2006-07</th>\n",
       "      <td>0.4</td>\n",
       "    </tr>\n",
       "    <tr>\n",
       "      <th>2007-08</th>\n",
       "      <td>0.2</td>\n",
       "    </tr>\n",
       "    <tr>\n",
       "      <th>2008-09</th>\n",
       "      <td>0.1</td>\n",
       "    </tr>\n",
       "    <tr>\n",
       "      <th>2009-10</th>\n",
       "      <td>0.3</td>\n",
       "    </tr>\n",
       "    <tr>\n",
       "      <th>2010-11</th>\n",
       "      <td>0.7</td>\n",
       "    </tr>\n",
       "    <tr>\n",
       "      <th>2011-12</th>\n",
       "      <td>0.2</td>\n",
       "    </tr>\n",
       "    <tr>\n",
       "      <th>2012-13</th>\n",
       "      <td>0.4</td>\n",
       "    </tr>\n",
       "    <tr>\n",
       "      <th>2013-14</th>\n",
       "      <td>0.0</td>\n",
       "    </tr>\n",
       "    <tr>\n",
       "      <th>2014-15</th>\n",
       "      <td>0.7</td>\n",
       "    </tr>\n",
       "    <tr>\n",
       "      <th>2015-16</th>\n",
       "      <td>0.6</td>\n",
       "    </tr>\n",
       "    <tr>\n",
       "      <th>2016-17</th>\n",
       "      <td>0.4</td>\n",
       "    </tr>\n",
       "    <tr>\n",
       "      <th>2017-18</th>\n",
       "      <td>0.6</td>\n",
       "    </tr>\n",
       "    <tr>\n",
       "      <th>2018-19</th>\n",
       "      <td>0.6</td>\n",
       "    </tr>\n",
       "    <tr>\n",
       "      <th>2019-20</th>\n",
       "      <td>1.3</td>\n",
       "    </tr>\n",
       "    <tr>\n",
       "      <th>2020-21</th>\n",
       "      <td>1.2</td>\n",
       "    </tr>\n",
       "    <tr>\n",
       "      <th>2021-22</th>\n",
       "      <td>1.0</td>\n",
       "    </tr>\n",
       "    <tr>\n",
       "      <th>2022-23</th>\n",
       "      <td>0.8</td>\n",
       "    </tr>\n",
       "  </tbody>\n",
       "</table>\n",
       "</div>"
      ],
      "text/plain": [
       "         net_rating\n",
       "season             \n",
       "1996-97         0.1\n",
       "1997-98         0.1\n",
       "1999-00         0.6\n",
       "2000-01        -0.1\n",
       "2001-02        -0.0\n",
       "2002-03         0.0\n",
       "2003-04         0.2\n",
       "2004-05         0.3\n",
       "2005-06        -0.4\n",
       "2006-07         0.4\n",
       "2007-08         0.2\n",
       "2008-09         0.1\n",
       "2009-10         0.3\n",
       "2010-11         0.7\n",
       "2011-12         0.2\n",
       "2012-13         0.4\n",
       "2013-14         0.0\n",
       "2014-15         0.7\n",
       "2015-16         0.6\n",
       "2016-17         0.4\n",
       "2017-18         0.6\n",
       "2018-19         0.6\n",
       "2019-20         1.3\n",
       "2020-21         1.2\n",
       "2021-22         1.0\n",
       "2022-23         0.8"
      ]
     },
     "execution_count": 16,
     "metadata": {},
     "output_type": "execute_result"
    }
   ],
   "source": [
    "net_rating_small = valid_small_players[['season','net_rating']].groupby('season')\\\n",
    "     .mean()\\\n",
    "     .sort_values('season',ascending=True)\\\n",
    "     .round(1)\n",
    "\n",
    "net_rating_small"
   ]
  },
  {
   "cell_type": "code",
   "execution_count": 17,
   "id": "813bb636",
   "metadata": {
    "execution": {
     "iopub.execute_input": "2023-12-30T19:09:08.858827Z",
     "iopub.status.busy": "2023-12-30T19:09:08.858210Z",
     "iopub.status.idle": "2023-12-30T19:09:09.174503Z",
     "shell.execute_reply": "2023-12-30T19:09:09.173222Z"
    },
    "papermill": {
     "duration": 0.329584,
     "end_time": "2023-12-30T19:09:09.176386",
     "exception": false,
     "start_time": "2023-12-30T19:09:08.846802",
     "status": "completed"
    },
    "tags": []
   },
   "outputs": [
    {
     "data": {
      "image/png": "[encoded data removed]",
      "text/plain": [
       "<Figure size 900x700 with 1 Axes>"
      ]
     },
     "metadata": {},
     "output_type": "display_data"
    }
   ],
   "source": [
    "plt.figure(figsize=(9,7))\n",
    "plt.plot(net_rating_big['net_rating'],color='green',label='above 6\"8')\n",
    "plt.plot(net_rating_small['net_rating'],color='blue',label='6\"8 and below')\n",
    "plt.xlabel('Season')\n",
    "plt.ylabel('Average Net Rating')\n",
    "plt.title('Big vs Small player average Net Rating')\n",
    "plt.legend()\n",
    "plt.xticks(rotation = 45)\n",
    "plt.show()"
   ]
  },
  {
   "cell_type": "markdown",
   "id": "75167ec0",
   "metadata": {
    "papermill": {
     "duration": 0.010421,
     "end_time": "2023-12-30T19:09:09.197860",
     "exception": false,
     "start_time": "2023-12-30T19:09:09.187439",
     "status": "completed"
    },
    "tags": []
   },
   "source": [
    "This plot clearly tells us that big are impactful on the court across the years in even today's NBA."
   ]
  },
  {
   "cell_type": "markdown",
   "id": "6c8ce26d",
   "metadata": {
    "papermill": {
     "duration": 0.010289,
     "end_time": "2023-12-30T19:09:09.218932",
     "exception": false,
     "start_time": "2023-12-30T19:09:09.208643",
     "status": "completed"
    },
    "tags": []
   },
   "source": [
    "In conclusion we can see couple of things. Firstly that we can observe that  indeed height impacts your chance of getting into NBA, but the average height of the players is getting slowly lower. It may be caused by the fact that players that are smaller tends to score more points and are more versatile than the 'Bigs' however in the last couple of season we can that 'Bigs' are starting do dominate the game. Secondly we can see that in those seasons Bigs were almost always more impactful than the smaller guys. In my opinion it's safe to say that Bigs are still relevant in today's NBA and being taller makes you more likely to get into NBA."
   ]
  },
  {
   "cell_type": "markdown",
   "id": "6edb550f",
   "metadata": {
    "papermill": {
     "duration": 0.0103,
     "end_time": "2023-12-30T19:09:09.239819",
     "exception": false,
     "start_time": "2023-12-30T19:09:09.229519",
     "status": "completed"
    },
    "tags": []
   },
   "source": []
  },
  {
   "cell_type": "markdown",
   "id": "b4643244",
   "metadata": {
    "papermill": {
     "duration": 0.01049,
     "end_time": "2023-12-30T19:09:09.260814",
     "exception": false,
     "start_time": "2023-12-30T19:09:09.250324",
     "status": "completed"
    },
    "tags": []
   },
   "source": []
  }
 ],
 "metadata": {
  "kaggle": {
   "accelerator": "none",
   "dataSources": [
    {
     "datasetId": 98271,
     "sourceId": 6687390,
     "sourceType": "datasetVersion"
    }
   ],
   "dockerImageVersionId": 30626,
   "isGpuEnabled": false,
   "isInternetEnabled": false,
   "language": "python",
   "sourceType": "notebook"
  },
  "kernelspec": {
   "display_name": "Python 3",
   "language": "python",
   "name": "python3"
  },
  "language_info": {
   "codemirror_mode": {
    "name": "ipython",
    "version": 3
   },
   "file_extension": ".py",
   "mimetype": "text/x-python",
   "name": "python",
   "nbconvert_exporter": "python",
   "pygments_lexer": "ipython3",
   "version": "3.10.12"
  },
  "papermill": {
   "default_parameters": {},
   "duration": 5.286842,
   "end_time": "2023-12-30T19:09:09.691340",
   "environment_variables": {},
   "exception": null,
   "input_path": "__notebook__.ipynb",
   "output_path": "__notebook__.ipynb",
   "parameters": {},
   "start_time": "2023-12-30T19:09:04.404498",
   "version": "2.4.0"
  }
 },
 "nbformat": 4,
 "nbformat_minor": 5
}
