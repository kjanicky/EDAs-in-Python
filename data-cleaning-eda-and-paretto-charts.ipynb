{
 "cells": [
  {
   "cell_type": "code",
   "execution_count": 1,
   "id": "610527fb",
   "metadata": {
    "execution": {
     "iopub.execute_input": "2024-11-26T20:19:04.245191Z",
     "iopub.status.busy": "2024-11-26T20:19:04.244261Z",
     "iopub.status.idle": "2024-11-26T20:19:19.158494Z",
     "shell.execute_reply": "2024-11-26T20:19:19.157343Z"
    },
    "jupyter": {
     "is_executing": true
    },
    "papermill": {
     "duration": 14.927219,
     "end_time": "2024-11-26T20:19:19.161031",
     "exception": false,
     "start_time": "2024-11-26T20:19:04.233812",
     "status": "completed"
    },
    "tags": []
   },
   "outputs": [
    {
     "name": "stdout",
     "output_type": "stream",
     "text": [
      "Requirement already satisfied: plotly in /opt/conda/lib/python3.10/site-packages (5.22.0)\r\n",
      "Requirement already satisfied: tenacity>=6.2.0 in /opt/conda/lib/python3.10/site-packages (from plotly) (8.3.0)\r\n",
      "Requirement already satisfied: packaging in /opt/conda/lib/python3.10/site-packages (from plotly) (21.3)\r\n",
      "Requirement already satisfied: pyparsing!=3.0.5,>=2.0.2 in /opt/conda/lib/python3.10/site-packages (from packaging->plotly) (3.1.2)\r\n",
      "Note: you may need to restart the kernel to use updated packages.\n"
     ]
    }
   ],
   "source": [
    "import numpy as np\n",
    "import pandas as pd\n",
    "import matplotlib.pyplot as plt\n",
    "import seaborn as sns\n",
    "%pip install plotly\n",
    "import plotly.express as px\n",
    "import plotly.graph_objects as go\n",
    "from plotly.subplots import make_subplots"
   ]
  },
  {
   "cell_type": "markdown",
   "id": "76bbeea4",
   "metadata": {
    "papermill": {
     "duration": 0.006582,
     "end_time": "2024-11-26T20:19:19.174973",
     "exception": false,
     "start_time": "2024-11-26T20:19:19.168391",
     "status": "completed"
    },
    "tags": []
   },
   "source": [
    "## Import, types and structure of data"
   ]
  },
  {
   "cell_type": "code",
   "execution_count": 2,
   "id": "ce1e6031",
   "metadata": {
    "execution": {
     "iopub.execute_input": "2024-11-26T20:19:19.191034Z",
     "iopub.status.busy": "2024-11-26T20:19:19.190264Z",
     "iopub.status.idle": "2024-11-26T20:19:20.171799Z",
     "shell.execute_reply": "2024-11-26T20:19:20.170642Z"
    },
    "papermill": {
     "duration": 0.992364,
     "end_time": "2024-11-26T20:19:20.174246",
     "exception": false,
     "start_time": "2024-11-26T20:19:19.181882",
     "status": "completed"
    },
    "tags": []
   },
   "outputs": [
    {
     "data": {
      "text/html": [
       "<div>\n",
       "<style scoped>\n",
       "    .dataframe tbody tr th:only-of-type {\n",
       "        vertical-align: middle;\n",
       "    }\n",
       "\n",
       "    .dataframe tbody tr th {\n",
       "        vertical-align: top;\n",
       "    }\n",
       "\n",
       "    .dataframe thead th {\n",
       "        text-align: right;\n",
       "    }\n",
       "</style>\n",
       "<table border=\"1\" class=\"dataframe\">\n",
       "  <thead>\n",
       "    <tr style=\"text-align: right;\">\n",
       "      <th></th>\n",
       "      <th>Unique id</th>\n",
       "      <th>channel_name</th>\n",
       "      <th>category</th>\n",
       "      <th>Sub-category</th>\n",
       "      <th>Customer Remarks</th>\n",
       "      <th>Order_id</th>\n",
       "      <th>order_date_time</th>\n",
       "      <th>Issue_reported at</th>\n",
       "      <th>issue_responded</th>\n",
       "      <th>Survey_response_Date</th>\n",
       "      <th>Customer_City</th>\n",
       "      <th>Product_category</th>\n",
       "      <th>Item_price</th>\n",
       "      <th>connected_handling_time</th>\n",
       "      <th>Agent_name</th>\n",
       "      <th>Supervisor</th>\n",
       "      <th>Manager</th>\n",
       "      <th>Tenure Bucket</th>\n",
       "      <th>Agent Shift</th>\n",
       "      <th>CSAT Score</th>\n",
       "    </tr>\n",
       "  </thead>\n",
       "  <tbody>\n",
       "    <tr>\n",
       "      <th>0</th>\n",
       "      <td>7e9ae164-6a8b-4521-a2d4-58f7c9fff13f</td>\n",
       "      <td>Outcall</td>\n",
       "      <td>Product Queries</td>\n",
       "      <td>Life Insurance</td>\n",
       "      <td>NaN</td>\n",
       "      <td>c27c9bb4-fa36-4140-9f1f-21009254ffdb</td>\n",
       "      <td>NaN</td>\n",
       "      <td>01/08/2023 11:13</td>\n",
       "      <td>01/08/2023 11:47</td>\n",
       "      <td>01-Aug-23</td>\n",
       "      <td>NaN</td>\n",
       "      <td>NaN</td>\n",
       "      <td>NaN</td>\n",
       "      <td>NaN</td>\n",
       "      <td>Richard Buchanan</td>\n",
       "      <td>Mason Gupta</td>\n",
       "      <td>Jennifer Nguyen</td>\n",
       "      <td>On Job Training</td>\n",
       "      <td>Morning</td>\n",
       "      <td>5</td>\n",
       "    </tr>\n",
       "    <tr>\n",
       "      <th>1</th>\n",
       "      <td>b07ec1b0-f376-43b6-86df-ec03da3b2e16</td>\n",
       "      <td>Outcall</td>\n",
       "      <td>Product Queries</td>\n",
       "      <td>Product Specific Information</td>\n",
       "      <td>NaN</td>\n",
       "      <td>d406b0c7-ce17-4654-b9de-f08d421254bd</td>\n",
       "      <td>NaN</td>\n",
       "      <td>01/08/2023 12:52</td>\n",
       "      <td>01/08/2023 12:54</td>\n",
       "      <td>01-Aug-23</td>\n",
       "      <td>NaN</td>\n",
       "      <td>NaN</td>\n",
       "      <td>NaN</td>\n",
       "      <td>NaN</td>\n",
       "      <td>Vicki Collins</td>\n",
       "      <td>Dylan Kim</td>\n",
       "      <td>Michael Lee</td>\n",
       "      <td>&gt;90</td>\n",
       "      <td>Morning</td>\n",
       "      <td>5</td>\n",
       "    </tr>\n",
       "    <tr>\n",
       "      <th>2</th>\n",
       "      <td>200814dd-27c7-4149-ba2b-bd3af3092880</td>\n",
       "      <td>Inbound</td>\n",
       "      <td>Order Related</td>\n",
       "      <td>Installation/demo</td>\n",
       "      <td>NaN</td>\n",
       "      <td>c273368d-b961-44cb-beaf-62d6fd6c00d5</td>\n",
       "      <td>NaN</td>\n",
       "      <td>01/08/2023 20:16</td>\n",
       "      <td>01/08/2023 20:38</td>\n",
       "      <td>01-Aug-23</td>\n",
       "      <td>NaN</td>\n",
       "      <td>NaN</td>\n",
       "      <td>NaN</td>\n",
       "      <td>NaN</td>\n",
       "      <td>Duane Norman</td>\n",
       "      <td>Jackson Park</td>\n",
       "      <td>William Kim</td>\n",
       "      <td>On Job Training</td>\n",
       "      <td>Evening</td>\n",
       "      <td>5</td>\n",
       "    </tr>\n",
       "    <tr>\n",
       "      <th>3</th>\n",
       "      <td>eb0d3e53-c1ca-42d3-8486-e42c8d622135</td>\n",
       "      <td>Inbound</td>\n",
       "      <td>Returns</td>\n",
       "      <td>Reverse Pickup Enquiry</td>\n",
       "      <td>NaN</td>\n",
       "      <td>5aed0059-55a4-4ec6-bb54-97942092020a</td>\n",
       "      <td>NaN</td>\n",
       "      <td>01/08/2023 20:56</td>\n",
       "      <td>01/08/2023 21:16</td>\n",
       "      <td>01-Aug-23</td>\n",
       "      <td>NaN</td>\n",
       "      <td>NaN</td>\n",
       "      <td>NaN</td>\n",
       "      <td>NaN</td>\n",
       "      <td>Patrick Flores</td>\n",
       "      <td>Olivia Wang</td>\n",
       "      <td>John Smith</td>\n",
       "      <td>&gt;90</td>\n",
       "      <td>Evening</td>\n",
       "      <td>5</td>\n",
       "    </tr>\n",
       "    <tr>\n",
       "      <th>4</th>\n",
       "      <td>ba903143-1e54-406c-b969-46c52f92e5df</td>\n",
       "      <td>Inbound</td>\n",
       "      <td>Cancellation</td>\n",
       "      <td>Not Needed</td>\n",
       "      <td>NaN</td>\n",
       "      <td>e8bed5a9-6933-4aff-9dc6-ccefd7dcde59</td>\n",
       "      <td>NaN</td>\n",
       "      <td>01/08/2023 10:30</td>\n",
       "      <td>01/08/2023 10:32</td>\n",
       "      <td>01-Aug-23</td>\n",
       "      <td>NaN</td>\n",
       "      <td>NaN</td>\n",
       "      <td>NaN</td>\n",
       "      <td>NaN</td>\n",
       "      <td>Christopher Sanchez</td>\n",
       "      <td>Austin Johnson</td>\n",
       "      <td>Michael Lee</td>\n",
       "      <td>0-30</td>\n",
       "      <td>Morning</td>\n",
       "      <td>5</td>\n",
       "    </tr>\n",
       "  </tbody>\n",
       "</table>\n",
       "</div>"
      ],
      "text/plain": [
       "                              Unique id channel_name         category  \\\n",
       "0  7e9ae164-6a8b-4521-a2d4-58f7c9fff13f      Outcall  Product Queries   \n",
       "1  b07ec1b0-f376-43b6-86df-ec03da3b2e16      Outcall  Product Queries   \n",
       "2  200814dd-27c7-4149-ba2b-bd3af3092880      Inbound    Order Related   \n",
       "3  eb0d3e53-c1ca-42d3-8486-e42c8d622135      Inbound          Returns   \n",
       "4  ba903143-1e54-406c-b969-46c52f92e5df      Inbound     Cancellation   \n",
       "\n",
       "                   Sub-category Customer Remarks  \\\n",
       "0                Life Insurance              NaN   \n",
       "1  Product Specific Information              NaN   \n",
       "2             Installation/demo              NaN   \n",
       "3        Reverse Pickup Enquiry              NaN   \n",
       "4                    Not Needed              NaN   \n",
       "\n",
       "                               Order_id order_date_time Issue_reported at  \\\n",
       "0  c27c9bb4-fa36-4140-9f1f-21009254ffdb             NaN  01/08/2023 11:13   \n",
       "1  d406b0c7-ce17-4654-b9de-f08d421254bd             NaN  01/08/2023 12:52   \n",
       "2  c273368d-b961-44cb-beaf-62d6fd6c00d5             NaN  01/08/2023 20:16   \n",
       "3  5aed0059-55a4-4ec6-bb54-97942092020a             NaN  01/08/2023 20:56   \n",
       "4  e8bed5a9-6933-4aff-9dc6-ccefd7dcde59             NaN  01/08/2023 10:30   \n",
       "\n",
       "    issue_responded Survey_response_Date Customer_City Product_category  \\\n",
       "0  01/08/2023 11:47            01-Aug-23           NaN              NaN   \n",
       "1  01/08/2023 12:54            01-Aug-23           NaN              NaN   \n",
       "2  01/08/2023 20:38            01-Aug-23           NaN              NaN   \n",
       "3  01/08/2023 21:16            01-Aug-23           NaN              NaN   \n",
       "4  01/08/2023 10:32            01-Aug-23           NaN              NaN   \n",
       "\n",
       "   Item_price  connected_handling_time           Agent_name      Supervisor  \\\n",
       "0         NaN                      NaN     Richard Buchanan     Mason Gupta   \n",
       "1         NaN                      NaN        Vicki Collins       Dylan Kim   \n",
       "2         NaN                      NaN         Duane Norman    Jackson Park   \n",
       "3         NaN                      NaN       Patrick Flores     Olivia Wang   \n",
       "4         NaN                      NaN  Christopher Sanchez  Austin Johnson   \n",
       "\n",
       "           Manager    Tenure Bucket Agent Shift  CSAT Score  \n",
       "0  Jennifer Nguyen  On Job Training     Morning           5  \n",
       "1      Michael Lee              >90     Morning           5  \n",
       "2      William Kim  On Job Training     Evening           5  \n",
       "3       John Smith              >90     Evening           5  \n",
       "4      Michael Lee             0-30     Morning           5  "
      ]
     },
     "execution_count": 2,
     "metadata": {},
     "output_type": "execute_result"
    }
   ],
   "source": [
    "df = pd.read_csv('/kaggle/input/ecommerce-customer-service-satisfaction/Customer_support_data.csv')\n",
    "df.head()"
   ]
  },
  {
   "cell_type": "code",
   "execution_count": 3,
   "id": "3b320414",
   "metadata": {
    "execution": {
     "iopub.execute_input": "2024-11-26T20:19:20.192271Z",
     "iopub.status.busy": "2024-11-26T20:19:20.191876Z",
     "iopub.status.idle": "2024-11-26T20:19:20.198844Z",
     "shell.execute_reply": "2024-11-26T20:19:20.197724Z"
    },
    "papermill": {
     "duration": 0.017912,
     "end_time": "2024-11-26T20:19:20.201093",
     "exception": false,
     "start_time": "2024-11-26T20:19:20.183181",
     "status": "completed"
    },
    "tags": []
   },
   "outputs": [
    {
     "data": {
      "text/plain": [
       "(85907, 20)"
      ]
     },
     "execution_count": 3,
     "metadata": {},
     "output_type": "execute_result"
    }
   ],
   "source": [
    "df.shape"
   ]
  },
  {
   "cell_type": "code",
   "execution_count": 4,
   "id": "2c4d1738",
   "metadata": {
    "execution": {
     "iopub.execute_input": "2024-11-26T20:19:20.217602Z",
     "iopub.status.busy": "2024-11-26T20:19:20.217131Z",
     "iopub.status.idle": "2024-11-26T20:19:20.316912Z",
     "shell.execute_reply": "2024-11-26T20:19:20.315763Z"
    },
    "papermill": {
     "duration": 0.110812,
     "end_time": "2024-11-26T20:19:20.319420",
     "exception": false,
     "start_time": "2024-11-26T20:19:20.208608",
     "status": "completed"
    },
    "tags": []
   },
   "outputs": [
    {
     "name": "stdout",
     "output_type": "stream",
     "text": [
      "<class 'pandas.core.frame.DataFrame'>\n",
      "RangeIndex: 85907 entries, 0 to 85906\n",
      "Data columns (total 20 columns):\n",
      " #   Column                   Non-Null Count  Dtype  \n",
      "---  ------                   --------------  -----  \n",
      " 0   Unique id                85907 non-null  object \n",
      " 1   channel_name             85907 non-null  object \n",
      " 2   category                 85907 non-null  object \n",
      " 3   Sub-category             85907 non-null  object \n",
      " 4   Customer Remarks         28742 non-null  object \n",
      " 5   Order_id                 67675 non-null  object \n",
      " 6   order_date_time          17214 non-null  object \n",
      " 7   Issue_reported at        85907 non-null  object \n",
      " 8   issue_responded          85907 non-null  object \n",
      " 9   Survey_response_Date     85907 non-null  object \n",
      " 10  Customer_City            17079 non-null  object \n",
      " 11  Product_category         17196 non-null  object \n",
      " 12  Item_price               17206 non-null  float64\n",
      " 13  connected_handling_time  242 non-null    float64\n",
      " 14  Agent_name               85907 non-null  object \n",
      " 15  Supervisor               85907 non-null  object \n",
      " 16  Manager                  85907 non-null  object \n",
      " 17  Tenure Bucket            85907 non-null  object \n",
      " 18  Agent Shift              85907 non-null  object \n",
      " 19  CSAT Score               85907 non-null  int64  \n",
      "dtypes: float64(2), int64(1), object(17)\n",
      "memory usage: 13.1+ MB\n"
     ]
    }
   ],
   "source": [
    "df.info()"
   ]
  },
  {
   "cell_type": "markdown",
   "id": "4e9838aa",
   "metadata": {
    "papermill": {
     "duration": 0.007105,
     "end_time": "2024-11-26T20:19:20.334134",
     "exception": false,
     "start_time": "2024-11-26T20:19:20.327029",
     "status": "completed"
    },
    "tags": []
   },
   "source": [
    "## Cleaning Data"
   ]
  },
  {
   "cell_type": "code",
   "execution_count": 5,
   "id": "5e86976c",
   "metadata": {
    "execution": {
     "iopub.execute_input": "2024-11-26T20:19:20.351243Z",
     "iopub.status.busy": "2024-11-26T20:19:20.350874Z",
     "iopub.status.idle": "2024-11-26T20:19:20.424359Z",
     "shell.execute_reply": "2024-11-26T20:19:20.423243Z"
    },
    "papermill": {
     "duration": 0.085032,
     "end_time": "2024-11-26T20:19:20.426696",
     "exception": false,
     "start_time": "2024-11-26T20:19:20.341664",
     "status": "completed"
    },
    "tags": []
   },
   "outputs": [
    {
     "data": {
      "text/plain": [
       "Unique id                      0\n",
       "channel_name                   0\n",
       "category                       0\n",
       "Sub-category                   0\n",
       "Customer Remarks           57165\n",
       "Order_id                   18232\n",
       "order_date_time            68693\n",
       "Issue_reported at              0\n",
       "issue_responded                0\n",
       "Survey_response_Date           0\n",
       "Customer_City              68828\n",
       "Product_category           68711\n",
       "Item_price                 68701\n",
       "connected_handling_time    85665\n",
       "Agent_name                     0\n",
       "Supervisor                     0\n",
       "Manager                        0\n",
       "Tenure Bucket                  0\n",
       "Agent Shift                    0\n",
       "CSAT Score                     0\n",
       "dtype: int64"
      ]
     },
     "execution_count": 5,
     "metadata": {},
     "output_type": "execute_result"
    }
   ],
   "source": [
    "df.isna().sum()"
   ]
  },
  {
   "cell_type": "code",
   "execution_count": 6,
   "id": "b0ecc475",
   "metadata": {
    "execution": {
     "iopub.execute_input": "2024-11-26T20:19:20.443537Z",
     "iopub.status.busy": "2024-11-26T20:19:20.443157Z",
     "iopub.status.idle": "2024-11-26T20:19:20.450290Z",
     "shell.execute_reply": "2024-11-26T20:19:20.449149Z"
    },
    "papermill": {
     "duration": 0.01799,
     "end_time": "2024-11-26T20:19:20.452368",
     "exception": false,
     "start_time": "2024-11-26T20:19:20.434378",
     "status": "completed"
    },
    "tags": []
   },
   "outputs": [
    {
     "data": {
      "text/plain": [
       "Index(['Unique id', 'channel_name', 'category', 'Sub-category',\n",
       "       'Customer Remarks', 'Order_id', 'order_date_time', 'Issue_reported at',\n",
       "       'issue_responded', 'Survey_response_Date', 'Customer_City',\n",
       "       'Product_category', 'Item_price', 'connected_handling_time',\n",
       "       'Agent_name', 'Supervisor', 'Manager', 'Tenure Bucket', 'Agent Shift',\n",
       "       'CSAT Score'],\n",
       "      dtype='object')"
      ]
     },
     "execution_count": 6,
     "metadata": {},
     "output_type": "execute_result"
    }
   ],
   "source": [
    "df.columns"
   ]
  },
  {
   "cell_type": "code",
   "execution_count": 7,
   "id": "e5679f1d",
   "metadata": {
    "execution": {
     "iopub.execute_input": "2024-11-26T20:19:20.470655Z",
     "iopub.status.busy": "2024-11-26T20:19:20.469573Z",
     "iopub.status.idle": "2024-11-26T20:19:20.487419Z",
     "shell.execute_reply": "2024-11-26T20:19:20.486508Z"
    },
    "papermill": {
     "duration": 0.029568,
     "end_time": "2024-11-26T20:19:20.489844",
     "exception": false,
     "start_time": "2024-11-26T20:19:20.460276",
     "status": "completed"
    },
    "tags": []
   },
   "outputs": [],
   "source": [
    "df = df.drop(columns=['Unique id','Order_id','connected_handling_time'])"
   ]
  },
  {
   "cell_type": "code",
   "execution_count": 8,
   "id": "743d87cf",
   "metadata": {
    "execution": {
     "iopub.execute_input": "2024-11-26T20:19:20.507029Z",
     "iopub.status.busy": "2024-11-26T20:19:20.506650Z",
     "iopub.status.idle": "2024-11-26T20:19:20.586534Z",
     "shell.execute_reply": "2024-11-26T20:19:20.585347Z"
    },
    "papermill": {
     "duration": 0.091151,
     "end_time": "2024-11-26T20:19:20.588877",
     "exception": false,
     "start_time": "2024-11-26T20:19:20.497726",
     "status": "completed"
    },
    "tags": []
   },
   "outputs": [
    {
     "data": {
      "text/plain": [
       "channel_name            0\n",
       "category                0\n",
       "Sub-category            0\n",
       "Customer Remarks        0\n",
       "order_date_time         0\n",
       "Issue_reported at       0\n",
       "issue_responded         0\n",
       "Survey_response_Date    0\n",
       "Customer_City           0\n",
       "Product_category        0\n",
       "Item_price              0\n",
       "Agent_name              0\n",
       "Supervisor              0\n",
       "Manager                 0\n",
       "Tenure Bucket           0\n",
       "Agent Shift             0\n",
       "CSAT Score              0\n",
       "dtype: int64"
      ]
     },
     "execution_count": 8,
     "metadata": {},
     "output_type": "execute_result"
    }
   ],
   "source": [
    "df = df.dropna(how='any')\n",
    "df.isna().sum()"
   ]
  },
  {
   "cell_type": "code",
   "execution_count": 9,
   "id": "21d98b9b",
   "metadata": {
    "execution": {
     "iopub.execute_input": "2024-11-26T20:19:20.607068Z",
     "iopub.status.busy": "2024-11-26T20:19:20.606150Z",
     "iopub.status.idle": "2024-11-26T20:19:20.613309Z",
     "shell.execute_reply": "2024-11-26T20:19:20.612250Z"
    },
    "papermill": {
     "duration": 0.018687,
     "end_time": "2024-11-26T20:19:20.615606",
     "exception": false,
     "start_time": "2024-11-26T20:19:20.596919",
     "status": "completed"
    },
    "tags": []
   },
   "outputs": [
    {
     "data": {
      "text/plain": [
       "(5784, 17)"
      ]
     },
     "execution_count": 9,
     "metadata": {},
     "output_type": "execute_result"
    }
   ],
   "source": [
    "df.shape"
   ]
  },
  {
   "cell_type": "markdown",
   "id": "6160baae",
   "metadata": {
    "papermill": {
     "duration": 0.007569,
     "end_time": "2024-11-26T20:19:20.631363",
     "exception": false,
     "start_time": "2024-11-26T20:19:20.623794",
     "status": "completed"
    },
    "tags": []
   },
   "source": [
    "# EDA"
   ]
  },
  {
   "cell_type": "code",
   "execution_count": 10,
   "id": "837b44ee",
   "metadata": {
    "execution": {
     "iopub.execute_input": "2024-11-26T20:19:20.649497Z",
     "iopub.status.busy": "2024-11-26T20:19:20.649072Z",
     "iopub.status.idle": "2024-11-26T20:19:20.667730Z",
     "shell.execute_reply": "2024-11-26T20:19:20.666707Z"
    },
    "papermill": {
     "duration": 0.030266,
     "end_time": "2024-11-26T20:19:20.670087",
     "exception": false,
     "start_time": "2024-11-26T20:19:20.639821",
     "status": "completed"
    },
    "tags": []
   },
   "outputs": [
    {
     "data": {
      "text/html": [
       "<div>\n",
       "<style scoped>\n",
       "    .dataframe tbody tr th:only-of-type {\n",
       "        vertical-align: middle;\n",
       "    }\n",
       "\n",
       "    .dataframe tbody tr th {\n",
       "        vertical-align: top;\n",
       "    }\n",
       "\n",
       "    .dataframe thead th {\n",
       "        text-align: right;\n",
       "    }\n",
       "</style>\n",
       "<table border=\"1\" class=\"dataframe\">\n",
       "  <thead>\n",
       "    <tr style=\"text-align: right;\">\n",
       "      <th></th>\n",
       "      <th>Item_price</th>\n",
       "      <th>CSAT Score</th>\n",
       "    </tr>\n",
       "  </thead>\n",
       "  <tbody>\n",
       "    <tr>\n",
       "      <th>count</th>\n",
       "      <td>5784.000000</td>\n",
       "      <td>5784.000000</td>\n",
       "    </tr>\n",
       "    <tr>\n",
       "      <th>mean</th>\n",
       "      <td>5810.067427</td>\n",
       "      <td>3.717669</td>\n",
       "    </tr>\n",
       "    <tr>\n",
       "      <th>std</th>\n",
       "      <td>12924.031171</td>\n",
       "      <td>1.750964</td>\n",
       "    </tr>\n",
       "    <tr>\n",
       "      <th>min</th>\n",
       "      <td>1.000000</td>\n",
       "      <td>1.000000</td>\n",
       "    </tr>\n",
       "    <tr>\n",
       "      <th>25%</th>\n",
       "      <td>399.000000</td>\n",
       "      <td>1.000000</td>\n",
       "    </tr>\n",
       "    <tr>\n",
       "      <th>50%</th>\n",
       "      <td>999.000000</td>\n",
       "      <td>5.000000</td>\n",
       "    </tr>\n",
       "    <tr>\n",
       "      <th>75%</th>\n",
       "      <td>2999.000000</td>\n",
       "      <td>5.000000</td>\n",
       "    </tr>\n",
       "    <tr>\n",
       "      <th>max</th>\n",
       "      <td>159990.000000</td>\n",
       "      <td>5.000000</td>\n",
       "    </tr>\n",
       "  </tbody>\n",
       "</table>\n",
       "</div>"
      ],
      "text/plain": [
       "          Item_price   CSAT Score\n",
       "count    5784.000000  5784.000000\n",
       "mean     5810.067427     3.717669\n",
       "std     12924.031171     1.750964\n",
       "min         1.000000     1.000000\n",
       "25%       399.000000     1.000000\n",
       "50%       999.000000     5.000000\n",
       "75%      2999.000000     5.000000\n",
       "max    159990.000000     5.000000"
      ]
     },
     "execution_count": 10,
     "metadata": {},
     "output_type": "execute_result"
    }
   ],
   "source": [
    "numeric_df = df.select_dtypes(include=['number'])\n",
    "numeric_df.describe()"
   ]
  },
  {
   "cell_type": "markdown",
   "id": "301c213b",
   "metadata": {
    "papermill": {
     "duration": 0.007757,
     "end_time": "2024-11-26T20:19:20.686567",
     "exception": false,
     "start_time": "2024-11-26T20:19:20.678810",
     "status": "completed"
    },
    "tags": []
   },
   "source": [
    "## Most Common Values"
   ]
  },
  {
   "cell_type": "code",
   "execution_count": 11,
   "id": "676eae3f",
   "metadata": {
    "execution": {
     "iopub.execute_input": "2024-11-26T20:19:20.705215Z",
     "iopub.status.busy": "2024-11-26T20:19:20.704832Z",
     "iopub.status.idle": "2024-11-26T20:19:20.745366Z",
     "shell.execute_reply": "2024-11-26T20:19:20.744086Z"
    },
    "papermill": {
     "duration": 0.053294,
     "end_time": "2024-11-26T20:19:20.748408",
     "exception": false,
     "start_time": "2024-11-26T20:19:20.695114",
     "status": "completed"
    },
    "tags": []
   },
   "outputs": [
    {
     "name": "stdout",
     "output_type": "stream",
     "text": [
      "Value counts for column 'channel_name':\n",
      "channel_name\n",
      "Inbound    4656\n",
      "Outcall     747\n",
      "Email       381\n",
      "Name: count, dtype: int64\n",
      "------------------------------\n",
      "Value counts for column 'category':\n",
      "category\n",
      "Returns           2873\n",
      "Order Related     2022\n",
      "Refund Related     387\n",
      "Cancellation       267\n",
      "Feedback           182\n",
      "Name: count, dtype: int64\n",
      "------------------------------\n",
      "Value counts for column 'Sub-category':\n",
      "Sub-category\n",
      "Reverse Pickup Enquiry    1360\n",
      "Delayed                   1108\n",
      "Return request             647\n",
      "Order status enquiry       530\n",
      "Not Needed                 253\n",
      "Name: count, dtype: int64\n",
      "------------------------------\n",
      "Value counts for column 'Customer Remarks':\n",
      "Customer Remarks\n",
      "Good          284\n",
      "Good          214\n",
      "Very good     115\n",
      "Ok             58\n",
      "Nice           56\n",
      "Name: count, dtype: int64\n",
      "------------------------------\n",
      "Value counts for column 'order_date_time':\n",
      "order_date_time\n",
      "05/08/2023 13:07    5\n",
      "05/08/2023 21:13    4\n",
      "04/08/2023 15:23    4\n",
      "09/08/2023 11:55    4\n",
      "04/08/2023 08:20    4\n",
      "Name: count, dtype: int64\n",
      "------------------------------\n",
      "Value counts for column 'Issue_reported at':\n",
      "Issue_reported at\n",
      "11/08/2023 11:53    5\n",
      "14/08/2023 18:07    4\n",
      "11/08/2023 21:12    4\n",
      "11/08/2023 09:48    4\n",
      "11/08/2023 11:26    4\n",
      "Name: count, dtype: int64\n",
      "------------------------------\n",
      "Value counts for column 'issue_responded':\n",
      "issue_responded\n",
      "28/08/2023 00:00    125\n",
      "08/08/2023 10:15      4\n",
      "11/08/2023 19:20      4\n",
      "11/08/2023 18:56      4\n",
      "11/08/2023 13:36      4\n",
      "Name: count, dtype: int64\n",
      "------------------------------\n",
      "Value counts for column 'Survey_response_Date':\n",
      "Survey_response_Date\n",
      "11-Aug-23    857\n",
      "14-Aug-23    337\n",
      "08-Aug-23    291\n",
      "12-Aug-23    289\n",
      "18-Aug-23    263\n",
      "Name: count, dtype: int64\n",
      "------------------------------\n",
      "Value counts for column 'Customer_City':\n",
      "Customer_City\n",
      "HYDERABAD    241\n",
      "NEW DELHI    227\n",
      "MUMBAI       136\n",
      "PUNE         119\n",
      "BANGALORE    106\n",
      "Name: count, dtype: int64\n",
      "------------------------------\n",
      "Value counts for column 'Product_category':\n",
      "Product_category\n",
      "Electronics                    1678\n",
      "LifeStyle                      1327\n",
      "Books & General merchandise    1064\n",
      "Mobile                          614\n",
      "Home Appliences                 472\n",
      "Name: count, dtype: int64\n",
      "------------------------------\n",
      "Value counts for column 'Item_price':\n",
      "Item_price\n",
      "999.0     221\n",
      "1299.0    116\n",
      "1499.0    113\n",
      "899.0     103\n",
      "799.0      92\n",
      "Name: count, dtype: int64\n",
      "------------------------------\n",
      "Value counts for column 'Agent_name':\n",
      "Agent_name\n",
      "Wendy Taylor     32\n",
      "Jamie Smith      23\n",
      "Kayla Wilson     23\n",
      "Scott Sutton     19\n",
      "Andrea Conley    18\n",
      "Name: count, dtype: int64\n",
      "------------------------------\n",
      "Value counts for column 'Supervisor':\n",
      "Supervisor\n",
      "Carter Park         318\n",
      "Noah Patel          265\n",
      "Elijah Yamaguchi    259\n",
      "Zoe Yamamoto        244\n",
      "Emma Park           240\n",
      "Name: count, dtype: int64\n",
      "------------------------------\n",
      "Value counts for column 'Manager':\n",
      "Manager\n",
      "John Smith         1819\n",
      "Michael Lee        1361\n",
      "Jennifer Nguyen     933\n",
      "Emily Chen          932\n",
      "William Kim         481\n",
      "Name: count, dtype: int64\n",
      "------------------------------\n",
      "Value counts for column 'Tenure Bucket':\n",
      "Tenure Bucket\n",
      ">90                2049\n",
      "On Job Training    1466\n",
      "31-60               905\n",
      "0-30                859\n",
      "61-90               505\n",
      "Name: count, dtype: int64\n",
      "------------------------------\n",
      "Value counts for column 'Agent Shift':\n",
      "Agent Shift\n",
      "Morning      2872\n",
      "Evening      2216\n",
      "Afternoon     380\n",
      "Split         219\n",
      "Night          97\n",
      "Name: count, dtype: int64\n",
      "------------------------------\n",
      "Value counts for column 'CSAT Score':\n",
      "CSAT Score\n",
      "5    3449\n",
      "1    1578\n",
      "4     505\n",
      "3     156\n",
      "2      96\n",
      "Name: count, dtype: int64\n",
      "------------------------------\n"
     ]
    }
   ],
   "source": [
    "for col in df.columns:\n",
    "    print(f\"Value counts for column '{col}':\")\n",
    "    print(df[col].value_counts().head())\n",
    "    print(\"-\" * 30)"
   ]
  },
  {
   "cell_type": "code",
   "execution_count": 12,
   "id": "d93e3fa0",
   "metadata": {
    "execution": {
     "iopub.execute_input": "2024-11-26T20:19:20.768052Z",
     "iopub.status.busy": "2024-11-26T20:19:20.767359Z",
     "iopub.status.idle": "2024-11-26T20:19:21.219250Z",
     "shell.execute_reply": "2024-11-26T20:19:21.218069Z"
    },
    "papermill": {
     "duration": 0.464361,
     "end_time": "2024-11-26T20:19:21.221522",
     "exception": false,
     "start_time": "2024-11-26T20:19:20.757161",
     "status": "completed"
    },
    "tags": []
   },
   "outputs": [
    {
     "name": "stderr",
     "output_type": "stream",
     "text": [
      "/tmp/ipykernel_17/2152733876.py:1: UserWarning: Parsing dates in %d/%m/%Y %H:%M format when dayfirst=False (the default) was specified. Pass `dayfirst=True` or specify a format to silence this warning.\n",
      "  df['order_date_time'] = pd.to_datetime(df['order_date_time'])\n",
      "/opt/conda/lib/python3.10/site-packages/seaborn/_oldcore.py:1119: FutureWarning: use_inf_as_na option is deprecated and will be removed in a future version. Convert inf values to NaN before operating instead.\n",
      "  with pd.option_context('mode.use_inf_as_na', True):\n",
      "/opt/conda/lib/python3.10/site-packages/seaborn/_oldcore.py:1119: FutureWarning: use_inf_as_na option is deprecated and will be removed in a future version. Convert inf values to NaN before operating instead.\n",
      "  with pd.option_context('mode.use_inf_as_na', True):\n"
     ]
    },
    {
     "data": {
      "text/plain": [
       "<Axes: xlabel='date', ylabel='order_count'>"
      ]
     },
     "execution_count": 12,
     "metadata": {},
     "output_type": "execute_result"
    },
    {
     "data": {
      "image/png": "[encoded data removed]",
      "text/plain": [
       "<Figure size 640x480 with 1 Axes>"
      ]
     },
     "metadata": {},
     "output_type": "display_data"
    }
   ],
   "source": [
    "df['order_date_time'] = pd.to_datetime(df['order_date_time'])\n",
    "df['date'] = df['order_date_time'].dt.date \n",
    "order_counts = df.groupby('date').size().reset_index(name='order_count')\n",
    "sns.lineplot(data=order_counts, x='date', y='order_count', marker='o')"
   ]
  },
  {
   "cell_type": "code",
   "execution_count": 13,
   "id": "e6aa039d",
   "metadata": {
    "execution": {
     "iopub.execute_input": "2024-11-26T20:19:21.241764Z",
     "iopub.status.busy": "2024-11-26T20:19:21.241274Z",
     "iopub.status.idle": "2024-11-26T20:19:21.616479Z",
     "shell.execute_reply": "2024-11-26T20:19:21.615308Z"
    },
    "papermill": {
     "duration": 0.388125,
     "end_time": "2024-11-26T20:19:21.618883",
     "exception": false,
     "start_time": "2024-11-26T20:19:21.230758",
     "status": "completed"
    },
    "tags": []
   },
   "outputs": [
    {
     "name": "stderr",
     "output_type": "stream",
     "text": [
      "/tmp/ipykernel_17/1402315873.py:1: FutureWarning: 'M' is deprecated and will be removed in a future version, please use 'ME' instead.\n",
      "  AVG_ItemPrice_Date = df.groupby(pd.Grouper(key='order_date_time', freq='M'))['Item_price'].mean().reset_index(name='AVG Item Price')\n",
      "/opt/conda/lib/python3.10/site-packages/seaborn/_oldcore.py:1119: FutureWarning: use_inf_as_na option is deprecated and will be removed in a future version. Convert inf values to NaN before operating instead.\n",
      "  with pd.option_context('mode.use_inf_as_na', True):\n",
      "/opt/conda/lib/python3.10/site-packages/seaborn/_oldcore.py:1119: FutureWarning: use_inf_as_na option is deprecated and will be removed in a future version. Convert inf values to NaN before operating instead.\n",
      "  with pd.option_context('mode.use_inf_as_na', True):\n"
     ]
    },
    {
     "data": {
      "text/plain": [
       "<Axes: xlabel='order_date_time', ylabel='AVG Item Price'>"
      ]
     },
     "execution_count": 13,
     "metadata": {},
     "output_type": "execute_result"
    },
    {
     "data": {
      "image/png": "[encoded data removed]",
      "text/plain": [
       "<Figure size 640x480 with 1 Axes>"
      ]
     },
     "metadata": {},
     "output_type": "display_data"
    }
   ],
   "source": [
    "AVG_ItemPrice_Date = df.groupby(pd.Grouper(key='order_date_time', freq='M'))['Item_price'].mean().reset_index(name='AVG Item Price')\n",
    "sns.lineplot(data = AVG_ItemPrice_Date, x = 'order_date_time', y = 'AVG Item Price')"
   ]
  },
  {
   "cell_type": "markdown",
   "id": "004b488a",
   "metadata": {
    "papermill": {
     "duration": 0.009403,
     "end_time": "2024-11-26T20:19:21.638190",
     "exception": false,
     "start_time": "2024-11-26T20:19:21.628787",
     "status": "completed"
    },
    "tags": []
   },
   "source": [
    "## Analiza Average CSAT Score według różnych wymiarów"
   ]
  },
  {
   "cell_type": "markdown",
   "id": "e0e52543",
   "metadata": {
    "papermill": {
     "duration": 0.009323,
     "end_time": "2024-11-26T20:19:21.657250",
     "exception": false,
     "start_time": "2024-11-26T20:19:21.647927",
     "status": "completed"
    },
    "tags": []
   },
   "source": [
    "### Daty"
   ]
  },
  {
   "cell_type": "code",
   "execution_count": 14,
   "id": "be0556a1",
   "metadata": {
    "execution": {
     "iopub.execute_input": "2024-11-26T20:19:21.678183Z",
     "iopub.status.busy": "2024-11-26T20:19:21.677763Z",
     "iopub.status.idle": "2024-11-26T20:19:22.030260Z",
     "shell.execute_reply": "2024-11-26T20:19:22.029026Z"
    },
    "papermill": {
     "duration": 0.365718,
     "end_time": "2024-11-26T20:19:22.032715",
     "exception": false,
     "start_time": "2024-11-26T20:19:21.666997",
     "status": "completed"
    },
    "tags": []
   },
   "outputs": [
    {
     "name": "stderr",
     "output_type": "stream",
     "text": [
      "/tmp/ipykernel_17/2271734462.py:1: UserWarning: Could not infer format, so each element will be parsed individually, falling back to `dateutil`. To ensure parsing is consistent and as-expected, please specify a format.\n",
      "  df['Survey_response_Date'] = pd.to_datetime(df['Survey_response_Date'])\n",
      "/opt/conda/lib/python3.10/site-packages/seaborn/_oldcore.py:1119: FutureWarning: use_inf_as_na option is deprecated and will be removed in a future version. Convert inf values to NaN before operating instead.\n",
      "  with pd.option_context('mode.use_inf_as_na', True):\n",
      "/opt/conda/lib/python3.10/site-packages/seaborn/_oldcore.py:1119: FutureWarning: use_inf_as_na option is deprecated and will be removed in a future version. Convert inf values to NaN before operating instead.\n",
      "  with pd.option_context('mode.use_inf_as_na', True):\n"
     ]
    },
    {
     "data": {
      "text/plain": [
       "<Axes: xlabel='Survey_response_Date', ylabel='Average CSAT Score'>"
      ]
     },
     "execution_count": 14,
     "metadata": {},
     "output_type": "execute_result"
    },
    {
     "data": {
      "image/png": "[encoded data removed]",
      "text/plain": [
       "<Figure size 640x480 with 1 Axes>"
      ]
     },
     "metadata": {},
     "output_type": "display_data"
    }
   ],
   "source": [
    "df['Survey_response_Date'] = pd.to_datetime(df['Survey_response_Date'])\n",
    "CSAT_over_date = df.groupby('Survey_response_Date')['CSAT Score'].mean().reset_index(name='Average CSAT Score')\n",
    "sns.lineplot(data=CSAT_over_date, x='Survey_response_Date',y='Average CSAT Score',markers = 'o')"
   ]
  },
  {
   "cell_type": "markdown",
   "id": "f4cd712b",
   "metadata": {
    "papermill": {
     "duration": 0.011329,
     "end_time": "2024-11-26T20:19:22.060600",
     "exception": false,
     "start_time": "2024-11-26T20:19:22.049271",
     "status": "completed"
    },
    "tags": []
   },
   "source": [
    "### Top and Bottom Agents, Supervisors and Managers"
   ]
  },
  {
   "cell_type": "code",
   "execution_count": 15,
   "id": "6d88730b",
   "metadata": {
    "execution": {
     "iopub.execute_input": "2024-11-26T20:19:22.084908Z",
     "iopub.status.busy": "2024-11-26T20:19:22.084500Z",
     "iopub.status.idle": "2024-11-26T20:19:22.108159Z",
     "shell.execute_reply": "2024-11-26T20:19:22.107047Z"
    },
    "papermill": {
     "duration": 0.039906,
     "end_time": "2024-11-26T20:19:22.111280",
     "exception": false,
     "start_time": "2024-11-26T20:19:22.071374",
     "status": "completed"
    },
    "tags": []
   },
   "outputs": [
    {
     "data": {
      "text/html": [
       "<div>\n",
       "<style scoped>\n",
       "    .dataframe tbody tr th:only-of-type {\n",
       "        vertical-align: middle;\n",
       "    }\n",
       "\n",
       "    .dataframe tbody tr th {\n",
       "        vertical-align: top;\n",
       "    }\n",
       "\n",
       "    .dataframe thead th {\n",
       "        text-align: right;\n",
       "    }\n",
       "</style>\n",
       "<table border=\"1\" class=\"dataframe\">\n",
       "  <thead>\n",
       "    <tr style=\"text-align: right;\">\n",
       "      <th></th>\n",
       "      <th>Agent_name</th>\n",
       "      <th>Average_CSAT</th>\n",
       "      <th>Number_Of_Responds</th>\n",
       "    </tr>\n",
       "  </thead>\n",
       "  <tbody>\n",
       "    <tr>\n",
       "      <th>1135</th>\n",
       "      <td>Susan Francis</td>\n",
       "      <td>5.000000</td>\n",
       "      <td>10</td>\n",
       "    </tr>\n",
       "    <tr>\n",
       "      <th>791</th>\n",
       "      <td>Matthew White PhD</td>\n",
       "      <td>4.941176</td>\n",
       "      <td>17</td>\n",
       "    </tr>\n",
       "    <tr>\n",
       "      <th>956</th>\n",
       "      <td>Paula Castillo</td>\n",
       "      <td>4.933333</td>\n",
       "      <td>15</td>\n",
       "    </tr>\n",
       "    <tr>\n",
       "      <th>128</th>\n",
       "      <td>Brandon Frost</td>\n",
       "      <td>4.833333</td>\n",
       "      <td>12</td>\n",
       "    </tr>\n",
       "    <tr>\n",
       "      <th>343</th>\n",
       "      <td>Edward Taylor</td>\n",
       "      <td>4.692308</td>\n",
       "      <td>13</td>\n",
       "    </tr>\n",
       "    <tr>\n",
       "      <th>45</th>\n",
       "      <td>Amy Berry</td>\n",
       "      <td>4.666667</td>\n",
       "      <td>12</td>\n",
       "    </tr>\n",
       "    <tr>\n",
       "      <th>1252</th>\n",
       "      <td>William Carey DVM</td>\n",
       "      <td>4.636364</td>\n",
       "      <td>11</td>\n",
       "    </tr>\n",
       "    <tr>\n",
       "      <th>333</th>\n",
       "      <td>Dr. Heather Lewis</td>\n",
       "      <td>4.636364</td>\n",
       "      <td>11</td>\n",
       "    </tr>\n",
       "    <tr>\n",
       "      <th>491</th>\n",
       "      <td>Jennifer Hernandez</td>\n",
       "      <td>4.615385</td>\n",
       "      <td>13</td>\n",
       "    </tr>\n",
       "    <tr>\n",
       "      <th>122</th>\n",
       "      <td>Bonnie Durham</td>\n",
       "      <td>4.600000</td>\n",
       "      <td>10</td>\n",
       "    </tr>\n",
       "  </tbody>\n",
       "</table>\n",
       "</div>"
      ],
      "text/plain": [
       "              Agent_name  Average_CSAT  Number_Of_Responds\n",
       "1135       Susan Francis      5.000000                  10\n",
       "791    Matthew White PhD      4.941176                  17\n",
       "956       Paula Castillo      4.933333                  15\n",
       "128        Brandon Frost      4.833333                  12\n",
       "343        Edward Taylor      4.692308                  13\n",
       "45             Amy Berry      4.666667                  12\n",
       "1252   William Carey DVM      4.636364                  11\n",
       "333    Dr. Heather Lewis      4.636364                  11\n",
       "491   Jennifer Hernandez      4.615385                  13\n",
       "122        Bonnie Durham      4.600000                  10"
      ]
     },
     "execution_count": 15,
     "metadata": {},
     "output_type": "execute_result"
    }
   ],
   "source": [
    "avg_csat_by_agent = df.groupby('Agent_name').agg(Average_CSAT =('CSAT Score','mean'),Number_Of_Responds=('CSAT Score', 'count')).reset_index()\n",
    "top_agents = avg_csat_by_agent.sort_values(by='Average_CSAT', ascending=False)\n",
    "top_agents = top_agents[top_agents['Number_Of_Responds'] >= 10]\n",
    "top_agents.head(10)"
   ]
  },
  {
   "cell_type": "code",
   "execution_count": 16,
   "id": "722e405b",
   "metadata": {
    "execution": {
     "iopub.execute_input": "2024-11-26T20:19:22.136377Z",
     "iopub.status.busy": "2024-11-26T20:19:22.135883Z",
     "iopub.status.idle": "2024-11-26T20:19:22.160814Z",
     "shell.execute_reply": "2024-11-26T20:19:22.159536Z"
    },
    "papermill": {
     "duration": 0.040045,
     "end_time": "2024-11-26T20:19:22.163631",
     "exception": false,
     "start_time": "2024-11-26T20:19:22.123586",
     "status": "completed"
    },
    "tags": []
   },
   "outputs": [
    {
     "data": {
      "text/html": [
       "<div>\n",
       "<style scoped>\n",
       "    .dataframe tbody tr th:only-of-type {\n",
       "        vertical-align: middle;\n",
       "    }\n",
       "\n",
       "    .dataframe tbody tr th {\n",
       "        vertical-align: top;\n",
       "    }\n",
       "\n",
       "    .dataframe thead th {\n",
       "        text-align: right;\n",
       "    }\n",
       "</style>\n",
       "<table border=\"1\" class=\"dataframe\">\n",
       "  <thead>\n",
       "    <tr style=\"text-align: right;\">\n",
       "      <th></th>\n",
       "      <th>Agent_name</th>\n",
       "      <th>Average_CSAT</th>\n",
       "      <th>Number_Of_Responds</th>\n",
       "    </tr>\n",
       "  </thead>\n",
       "  <tbody>\n",
       "    <tr>\n",
       "      <th>461</th>\n",
       "      <td>Jamie Smith</td>\n",
       "      <td>2.347826</td>\n",
       "      <td>23</td>\n",
       "    </tr>\n",
       "    <tr>\n",
       "      <th>745</th>\n",
       "      <td>Mackenzie Scott MD</td>\n",
       "      <td>2.363636</td>\n",
       "      <td>11</td>\n",
       "    </tr>\n",
       "    <tr>\n",
       "      <th>291</th>\n",
       "      <td>David Steele</td>\n",
       "      <td>2.500000</td>\n",
       "      <td>10</td>\n",
       "    </tr>\n",
       "    <tr>\n",
       "      <th>698</th>\n",
       "      <td>Laura Allen</td>\n",
       "      <td>2.583333</td>\n",
       "      <td>12</td>\n",
       "    </tr>\n",
       "    <tr>\n",
       "      <th>1146</th>\n",
       "      <td>Tammy Garcia</td>\n",
       "      <td>2.636364</td>\n",
       "      <td>11</td>\n",
       "    </tr>\n",
       "    <tr>\n",
       "      <th>1098</th>\n",
       "      <td>Stacey Lynch</td>\n",
       "      <td>2.900000</td>\n",
       "      <td>10</td>\n",
       "    </tr>\n",
       "    <tr>\n",
       "      <th>256</th>\n",
       "      <td>Dakota Collins</td>\n",
       "      <td>2.900000</td>\n",
       "      <td>10</td>\n",
       "    </tr>\n",
       "    <tr>\n",
       "      <th>15</th>\n",
       "      <td>Alexa Mcpherson</td>\n",
       "      <td>2.923077</td>\n",
       "      <td>13</td>\n",
       "    </tr>\n",
       "    <tr>\n",
       "      <th>1087</th>\n",
       "      <td>Sheila Collins</td>\n",
       "      <td>2.928571</td>\n",
       "      <td>14</td>\n",
       "    </tr>\n",
       "    <tr>\n",
       "      <th>152</th>\n",
       "      <td>Brittany Nunez</td>\n",
       "      <td>3.076923</td>\n",
       "      <td>13</td>\n",
       "    </tr>\n",
       "  </tbody>\n",
       "</table>\n",
       "</div>"
      ],
      "text/plain": [
       "              Agent_name  Average_CSAT  Number_Of_Responds\n",
       "461          Jamie Smith      2.347826                  23\n",
       "745   Mackenzie Scott MD      2.363636                  11\n",
       "291         David Steele      2.500000                  10\n",
       "698          Laura Allen      2.583333                  12\n",
       "1146        Tammy Garcia      2.636364                  11\n",
       "1098        Stacey Lynch      2.900000                  10\n",
       "256       Dakota Collins      2.900000                  10\n",
       "15       Alexa Mcpherson      2.923077                  13\n",
       "1087      Sheila Collins      2.928571                  14\n",
       "152       Brittany Nunez      3.076923                  13"
      ]
     },
     "execution_count": 16,
     "metadata": {},
     "output_type": "execute_result"
    }
   ],
   "source": [
    "avg_csat_by_agent = df.groupby('Agent_name').agg(Average_CSAT =('CSAT Score','mean'),Number_Of_Responds=('CSAT Score', 'count')).reset_index()\n",
    "bot_agents = avg_csat_by_agent.sort_values(by='Average_CSAT', ascending=True)\n",
    "bot_agents = bot_agents[bot_agents['Number_Of_Responds'] >= 10]\n",
    "bot_agents.head(10)"
   ]
  },
  {
   "cell_type": "code",
   "execution_count": 17,
   "id": "617aff2e",
   "metadata": {
    "execution": {
     "iopub.execute_input": "2024-11-26T20:19:22.204066Z",
     "iopub.status.busy": "2024-11-26T20:19:22.203661Z",
     "iopub.status.idle": "2024-11-26T20:19:22.226935Z",
     "shell.execute_reply": "2024-11-26T20:19:22.223225Z"
    },
    "papermill": {
     "duration": 0.048739,
     "end_time": "2024-11-26T20:19:22.231932",
     "exception": false,
     "start_time": "2024-11-26T20:19:22.183193",
     "status": "completed"
    },
    "tags": []
   },
   "outputs": [
    {
     "data": {
      "text/html": [
       "<div>\n",
       "<style scoped>\n",
       "    .dataframe tbody tr th:only-of-type {\n",
       "        vertical-align: middle;\n",
       "    }\n",
       "\n",
       "    .dataframe tbody tr th {\n",
       "        vertical-align: top;\n",
       "    }\n",
       "\n",
       "    .dataframe thead th {\n",
       "        text-align: right;\n",
       "    }\n",
       "</style>\n",
       "<table border=\"1\" class=\"dataframe\">\n",
       "  <thead>\n",
       "    <tr style=\"text-align: right;\">\n",
       "      <th></th>\n",
       "      <th>Manager</th>\n",
       "      <th>Average_CSAT</th>\n",
       "      <th>Number_Of_Responds</th>\n",
       "    </tr>\n",
       "  </thead>\n",
       "  <tbody>\n",
       "    <tr>\n",
       "      <th>0</th>\n",
       "      <td>Emily Chen</td>\n",
       "      <td>3.966738</td>\n",
       "      <td>932</td>\n",
       "    </tr>\n",
       "    <tr>\n",
       "      <th>3</th>\n",
       "      <td>Michael Lee</td>\n",
       "      <td>3.781043</td>\n",
       "      <td>1361</td>\n",
       "    </tr>\n",
       "    <tr>\n",
       "      <th>2</th>\n",
       "      <td>John Smith</td>\n",
       "      <td>3.715778</td>\n",
       "      <td>1819</td>\n",
       "    </tr>\n",
       "    <tr>\n",
       "      <th>4</th>\n",
       "      <td>Olivia Tan</td>\n",
       "      <td>3.658915</td>\n",
       "      <td>258</td>\n",
       "    </tr>\n",
       "    <tr>\n",
       "      <th>5</th>\n",
       "      <td>William Kim</td>\n",
       "      <td>3.523909</td>\n",
       "      <td>481</td>\n",
       "    </tr>\n",
       "    <tr>\n",
       "      <th>1</th>\n",
       "      <td>Jennifer Nguyen</td>\n",
       "      <td>3.496249</td>\n",
       "      <td>933</td>\n",
       "    </tr>\n",
       "  </tbody>\n",
       "</table>\n",
       "</div>"
      ],
      "text/plain": [
       "           Manager  Average_CSAT  Number_Of_Responds\n",
       "0       Emily Chen      3.966738                 932\n",
       "3      Michael Lee      3.781043                1361\n",
       "2       John Smith      3.715778                1819\n",
       "4       Olivia Tan      3.658915                 258\n",
       "5      William Kim      3.523909                 481\n",
       "1  Jennifer Nguyen      3.496249                 933"
      ]
     },
     "execution_count": 17,
     "metadata": {},
     "output_type": "execute_result"
    }
   ],
   "source": [
    "avg_csat_by_manager = df.groupby('Manager').agg(Average_CSAT =('CSAT Score','mean'),Number_Of_Responds=('CSAT Score', 'count')).reset_index()\n",
    "top_managers = avg_csat_by_manager.sort_values(by='Average_CSAT', ascending=False)\n",
    "top_managers = top_managers[top_managers['Number_Of_Responds'] >= 10]\n",
    "top_managers.head(10) # JEST TYLKO 5 Managerów"
   ]
  },
  {
   "cell_type": "code",
   "execution_count": 18,
   "id": "795d6dd9",
   "metadata": {
    "execution": {
     "iopub.execute_input": "2024-11-26T20:19:22.257615Z",
     "iopub.status.busy": "2024-11-26T20:19:22.257190Z",
     "iopub.status.idle": "2024-11-26T20:19:22.281185Z",
     "shell.execute_reply": "2024-11-26T20:19:22.279996Z"
    },
    "papermill": {
     "duration": 0.038958,
     "end_time": "2024-11-26T20:19:22.283563",
     "exception": false,
     "start_time": "2024-11-26T20:19:22.244605",
     "status": "completed"
    },
    "tags": []
   },
   "outputs": [
    {
     "data": {
      "text/html": [
       "<div>\n",
       "<style scoped>\n",
       "    .dataframe tbody tr th:only-of-type {\n",
       "        vertical-align: middle;\n",
       "    }\n",
       "\n",
       "    .dataframe tbody tr th {\n",
       "        vertical-align: top;\n",
       "    }\n",
       "\n",
       "    .dataframe thead th {\n",
       "        text-align: right;\n",
       "    }\n",
       "</style>\n",
       "<table border=\"1\" class=\"dataframe\">\n",
       "  <thead>\n",
       "    <tr style=\"text-align: right;\">\n",
       "      <th></th>\n",
       "      <th>Supervisor</th>\n",
       "      <th>Average_CSAT</th>\n",
       "      <th>Number_Of_Responds</th>\n",
       "    </tr>\n",
       "  </thead>\n",
       "  <tbody>\n",
       "    <tr>\n",
       "      <th>17</th>\n",
       "      <td>Isabella Wong</td>\n",
       "      <td>4.400000</td>\n",
       "      <td>65</td>\n",
       "    </tr>\n",
       "    <tr>\n",
       "      <th>6</th>\n",
       "      <td>Brayden Wong</td>\n",
       "      <td>4.128655</td>\n",
       "      <td>171</td>\n",
       "    </tr>\n",
       "    <tr>\n",
       "      <th>21</th>\n",
       "      <td>Layla Taniguchi</td>\n",
       "      <td>4.105263</td>\n",
       "      <td>57</td>\n",
       "    </tr>\n",
       "    <tr>\n",
       "      <th>3</th>\n",
       "      <td>Amelia Tanaka</td>\n",
       "      <td>4.084906</td>\n",
       "      <td>106</td>\n",
       "    </tr>\n",
       "    <tr>\n",
       "      <th>33</th>\n",
       "      <td>Olivia Wang</td>\n",
       "      <td>4.070312</td>\n",
       "      <td>128</td>\n",
       "    </tr>\n",
       "    <tr>\n",
       "      <th>10</th>\n",
       "      <td>Elijah Yamaguchi</td>\n",
       "      <td>4.023166</td>\n",
       "      <td>259</td>\n",
       "    </tr>\n",
       "    <tr>\n",
       "      <th>25</th>\n",
       "      <td>Madison Kim</td>\n",
       "      <td>4.019231</td>\n",
       "      <td>208</td>\n",
       "    </tr>\n",
       "    <tr>\n",
       "      <th>36</th>\n",
       "      <td>Sophia Sato</td>\n",
       "      <td>3.982143</td>\n",
       "      <td>112</td>\n",
       "    </tr>\n",
       "    <tr>\n",
       "      <th>13</th>\n",
       "      <td>Ethan Nakamura</td>\n",
       "      <td>3.979798</td>\n",
       "      <td>99</td>\n",
       "    </tr>\n",
       "    <tr>\n",
       "      <th>19</th>\n",
       "      <td>Jacob Sato</td>\n",
       "      <td>3.950495</td>\n",
       "      <td>101</td>\n",
       "    </tr>\n",
       "  </tbody>\n",
       "</table>\n",
       "</div>"
      ],
      "text/plain": [
       "          Supervisor  Average_CSAT  Number_Of_Responds\n",
       "17     Isabella Wong      4.400000                  65\n",
       "6       Brayden Wong      4.128655                 171\n",
       "21   Layla Taniguchi      4.105263                  57\n",
       "3      Amelia Tanaka      4.084906                 106\n",
       "33       Olivia Wang      4.070312                 128\n",
       "10  Elijah Yamaguchi      4.023166                 259\n",
       "25       Madison Kim      4.019231                 208\n",
       "36       Sophia Sato      3.982143                 112\n",
       "13    Ethan Nakamura      3.979798                  99\n",
       "19        Jacob Sato      3.950495                 101"
      ]
     },
     "execution_count": 18,
     "metadata": {},
     "output_type": "execute_result"
    }
   ],
   "source": [
    "avg_csat_by_supervisor = df.groupby('Supervisor').agg(Average_CSAT =('CSAT Score','mean'),Number_Of_Responds=('CSAT Score', 'count')).reset_index()\n",
    "top_supervisors = avg_csat_by_supervisor.sort_values(by='Average_CSAT', ascending=False)\n",
    "top_supervisors = top_supervisors[top_supervisors['Number_Of_Responds'] >= 10]\n",
    "top_supervisors.head(10)"
   ]
  },
  {
   "cell_type": "code",
   "execution_count": 19,
   "id": "30659f8f",
   "metadata": {
    "execution": {
     "iopub.execute_input": "2024-11-26T20:19:22.317536Z",
     "iopub.status.busy": "2024-11-26T20:19:22.317006Z",
     "iopub.status.idle": "2024-11-26T20:19:22.333284Z",
     "shell.execute_reply": "2024-11-26T20:19:22.332107Z"
    },
    "papermill": {
     "duration": 0.037781,
     "end_time": "2024-11-26T20:19:22.335481",
     "exception": false,
     "start_time": "2024-11-26T20:19:22.297700",
     "status": "completed"
    },
    "tags": []
   },
   "outputs": [
    {
     "data": {
      "text/html": [
       "<div>\n",
       "<style scoped>\n",
       "    .dataframe tbody tr th:only-of-type {\n",
       "        vertical-align: middle;\n",
       "    }\n",
       "\n",
       "    .dataframe tbody tr th {\n",
       "        vertical-align: top;\n",
       "    }\n",
       "\n",
       "    .dataframe thead th {\n",
       "        text-align: right;\n",
       "    }\n",
       "</style>\n",
       "<table border=\"1\" class=\"dataframe\">\n",
       "  <thead>\n",
       "    <tr style=\"text-align: right;\">\n",
       "      <th></th>\n",
       "      <th>Supervisor</th>\n",
       "      <th>Average_CSAT</th>\n",
       "      <th>Number_Of_Responds</th>\n",
       "    </tr>\n",
       "  </thead>\n",
       "  <tbody>\n",
       "    <tr>\n",
       "      <th>31</th>\n",
       "      <td>Oliver Nguyen</td>\n",
       "      <td>2.388889</td>\n",
       "      <td>36</td>\n",
       "    </tr>\n",
       "    <tr>\n",
       "      <th>16</th>\n",
       "      <td>Harper Wong</td>\n",
       "      <td>3.097826</td>\n",
       "      <td>92</td>\n",
       "    </tr>\n",
       "    <tr>\n",
       "      <th>39</th>\n",
       "      <td>Zoe Yamamoto</td>\n",
       "      <td>3.139344</td>\n",
       "      <td>244</td>\n",
       "    </tr>\n",
       "    <tr>\n",
       "      <th>35</th>\n",
       "      <td>Sophia Chen</td>\n",
       "      <td>3.266667</td>\n",
       "      <td>15</td>\n",
       "    </tr>\n",
       "    <tr>\n",
       "      <th>24</th>\n",
       "      <td>Lucas Singh</td>\n",
       "      <td>3.271605</td>\n",
       "      <td>81</td>\n",
       "    </tr>\n",
       "    <tr>\n",
       "      <th>12</th>\n",
       "      <td>Emma Park</td>\n",
       "      <td>3.275000</td>\n",
       "      <td>240</td>\n",
       "    </tr>\n",
       "    <tr>\n",
       "      <th>38</th>\n",
       "      <td>Wyatt Kim</td>\n",
       "      <td>3.421053</td>\n",
       "      <td>114</td>\n",
       "    </tr>\n",
       "    <tr>\n",
       "      <th>8</th>\n",
       "      <td>Charlotte Suzuki</td>\n",
       "      <td>3.472222</td>\n",
       "      <td>72</td>\n",
       "    </tr>\n",
       "    <tr>\n",
       "      <th>5</th>\n",
       "      <td>Ava Wong</td>\n",
       "      <td>3.508108</td>\n",
       "      <td>185</td>\n",
       "    </tr>\n",
       "    <tr>\n",
       "      <th>26</th>\n",
       "      <td>Mason Gupta</td>\n",
       "      <td>3.527778</td>\n",
       "      <td>144</td>\n",
       "    </tr>\n",
       "  </tbody>\n",
       "</table>\n",
       "</div>"
      ],
      "text/plain": [
       "          Supervisor  Average_CSAT  Number_Of_Responds\n",
       "31     Oliver Nguyen      2.388889                  36\n",
       "16       Harper Wong      3.097826                  92\n",
       "39      Zoe Yamamoto      3.139344                 244\n",
       "35       Sophia Chen      3.266667                  15\n",
       "24       Lucas Singh      3.271605                  81\n",
       "12         Emma Park      3.275000                 240\n",
       "38         Wyatt Kim      3.421053                 114\n",
       "8   Charlotte Suzuki      3.472222                  72\n",
       "5           Ava Wong      3.508108                 185\n",
       "26       Mason Gupta      3.527778                 144"
      ]
     },
     "execution_count": 19,
     "metadata": {},
     "output_type": "execute_result"
    }
   ],
   "source": [
    "bot_supervisors = avg_csat_by_supervisor.sort_values(by='Average_CSAT', ascending=True)\n",
    "bot_supervisors = bot_supervisors[bot_supervisors['Number_Of_Responds'] >= 10]\n",
    "bot_supervisors.head(10)"
   ]
  },
  {
   "cell_type": "markdown",
   "id": "500332d4",
   "metadata": {
    "papermill": {
     "duration": 0.011438,
     "end_time": "2024-11-26T20:19:22.358847",
     "exception": false,
     "start_time": "2024-11-26T20:19:22.347409",
     "status": "completed"
    },
    "tags": []
   },
   "source": [
    "### Top and Bot 10 Cities, Shifts, Categories, Sub-categories and Product-category"
   ]
  },
  {
   "cell_type": "code",
   "execution_count": 20,
   "id": "9e3eb088",
   "metadata": {
    "execution": {
     "iopub.execute_input": "2024-11-26T20:19:22.385490Z",
     "iopub.status.busy": "2024-11-26T20:19:22.384967Z",
     "iopub.status.idle": "2024-11-26T20:19:22.411086Z",
     "shell.execute_reply": "2024-11-26T20:19:22.409874Z"
    },
    "papermill": {
     "duration": 0.044425,
     "end_time": "2024-11-26T20:19:22.414890",
     "exception": false,
     "start_time": "2024-11-26T20:19:22.370465",
     "status": "completed"
    },
    "tags": []
   },
   "outputs": [
    {
     "data": {
      "text/html": [
       "<div>\n",
       "<style scoped>\n",
       "    .dataframe tbody tr th:only-of-type {\n",
       "        vertical-align: middle;\n",
       "    }\n",
       "\n",
       "    .dataframe tbody tr th {\n",
       "        vertical-align: top;\n",
       "    }\n",
       "\n",
       "    .dataframe thead th {\n",
       "        text-align: right;\n",
       "    }\n",
       "</style>\n",
       "<table border=\"1\" class=\"dataframe\">\n",
       "  <thead>\n",
       "    <tr style=\"text-align: right;\">\n",
       "      <th></th>\n",
       "      <th>Customer_City</th>\n",
       "      <th>Average_CSAT</th>\n",
       "      <th>Number_Of_Responds</th>\n",
       "    </tr>\n",
       "  </thead>\n",
       "  <tbody>\n",
       "    <tr>\n",
       "      <th>951</th>\n",
       "      <td>SAMBALPUR</td>\n",
       "      <td>5.000000</td>\n",
       "      <td>10</td>\n",
       "    </tr>\n",
       "    <tr>\n",
       "      <th>146</th>\n",
       "      <td>BERHAMPUR</td>\n",
       "      <td>5.000000</td>\n",
       "      <td>10</td>\n",
       "    </tr>\n",
       "    <tr>\n",
       "      <th>60</th>\n",
       "      <td>ARRAH</td>\n",
       "      <td>4.923077</td>\n",
       "      <td>13</td>\n",
       "    </tr>\n",
       "    <tr>\n",
       "      <th>922</th>\n",
       "      <td>REWARI</td>\n",
       "      <td>4.818182</td>\n",
       "      <td>11</td>\n",
       "    </tr>\n",
       "    <tr>\n",
       "      <th>939</th>\n",
       "      <td>SAHARSA</td>\n",
       "      <td>4.631579</td>\n",
       "      <td>19</td>\n",
       "    </tr>\n",
       "    <tr>\n",
       "      <th>174</th>\n",
       "      <td>BHOPAL</td>\n",
       "      <td>4.615385</td>\n",
       "      <td>13</td>\n",
       "    </tr>\n",
       "    <tr>\n",
       "      <th>95</th>\n",
       "      <td>BALLIA</td>\n",
       "      <td>4.545455</td>\n",
       "      <td>11</td>\n",
       "    </tr>\n",
       "    <tr>\n",
       "      <th>93</th>\n",
       "      <td>BALESHWAR</td>\n",
       "      <td>4.529412</td>\n",
       "      <td>17</td>\n",
       "    </tr>\n",
       "    <tr>\n",
       "      <th>131</th>\n",
       "      <td>BASTI</td>\n",
       "      <td>4.500000</td>\n",
       "      <td>10</td>\n",
       "    </tr>\n",
       "    <tr>\n",
       "      <th>345</th>\n",
       "      <td>FATEHPUR</td>\n",
       "      <td>4.500000</td>\n",
       "      <td>12</td>\n",
       "    </tr>\n",
       "  </tbody>\n",
       "</table>\n",
       "</div>"
      ],
      "text/plain": [
       "    Customer_City  Average_CSAT  Number_Of_Responds\n",
       "951     SAMBALPUR      5.000000                  10\n",
       "146     BERHAMPUR      5.000000                  10\n",
       "60          ARRAH      4.923077                  13\n",
       "922        REWARI      4.818182                  11\n",
       "939       SAHARSA      4.631579                  19\n",
       "174        BHOPAL      4.615385                  13\n",
       "95         BALLIA      4.545455                  11\n",
       "93      BALESHWAR      4.529412                  17\n",
       "131         BASTI      4.500000                  10\n",
       "345      FATEHPUR      4.500000                  12"
      ]
     },
     "execution_count": 20,
     "metadata": {},
     "output_type": "execute_result"
    }
   ],
   "source": [
    "avg_csat_by_city = df.groupby('Customer_City').agg(Average_CSAT =('CSAT Score','mean'),Number_Of_Responds=('CSAT Score', 'count')).reset_index()\n",
    "top_cities = avg_csat_by_city.sort_values(by='Average_CSAT', ascending=False)\n",
    "top_cities = top_cities[top_cities['Number_Of_Responds'] >= 10]\n",
    "top_cities.head(10)"
   ]
  },
  {
   "cell_type": "code",
   "execution_count": 21,
   "id": "77566dc8",
   "metadata": {
    "execution": {
     "iopub.execute_input": "2024-11-26T20:19:22.448126Z",
     "iopub.status.busy": "2024-11-26T20:19:22.447732Z",
     "iopub.status.idle": "2024-11-26T20:19:22.460973Z",
     "shell.execute_reply": "2024-11-26T20:19:22.459904Z"
    },
    "papermill": {
     "duration": 0.030075,
     "end_time": "2024-11-26T20:19:22.463655",
     "exception": false,
     "start_time": "2024-11-26T20:19:22.433580",
     "status": "completed"
    },
    "tags": []
   },
   "outputs": [
    {
     "data": {
      "text/html": [
       "<div>\n",
       "<style scoped>\n",
       "    .dataframe tbody tr th:only-of-type {\n",
       "        vertical-align: middle;\n",
       "    }\n",
       "\n",
       "    .dataframe tbody tr th {\n",
       "        vertical-align: top;\n",
       "    }\n",
       "\n",
       "    .dataframe thead th {\n",
       "        text-align: right;\n",
       "    }\n",
       "</style>\n",
       "<table border=\"1\" class=\"dataframe\">\n",
       "  <thead>\n",
       "    <tr style=\"text-align: right;\">\n",
       "      <th></th>\n",
       "      <th>Customer_City</th>\n",
       "      <th>Average_CSAT</th>\n",
       "      <th>Number_Of_Responds</th>\n",
       "    </tr>\n",
       "  </thead>\n",
       "  <tbody>\n",
       "    <tr>\n",
       "      <th>355</th>\n",
       "      <td>GANDHINAGAR</td>\n",
       "      <td>2.454545</td>\n",
       "      <td>11</td>\n",
       "    </tr>\n",
       "    <tr>\n",
       "      <th>1125</th>\n",
       "      <td>VADODARA</td>\n",
       "      <td>2.533333</td>\n",
       "      <td>30</td>\n",
       "    </tr>\n",
       "    <tr>\n",
       "      <th>125</th>\n",
       "      <td>BARMER</td>\n",
       "      <td>2.700000</td>\n",
       "      <td>10</td>\n",
       "    </tr>\n",
       "    <tr>\n",
       "      <th>1131</th>\n",
       "      <td>VAPI</td>\n",
       "      <td>2.700000</td>\n",
       "      <td>10</td>\n",
       "    </tr>\n",
       "    <tr>\n",
       "      <th>172</th>\n",
       "      <td>BHIWANDI</td>\n",
       "      <td>2.750000</td>\n",
       "      <td>12</td>\n",
       "    </tr>\n",
       "    <tr>\n",
       "      <th>882</th>\n",
       "      <td>RAIPUR</td>\n",
       "      <td>2.857143</td>\n",
       "      <td>14</td>\n",
       "    </tr>\n",
       "    <tr>\n",
       "      <th>132</th>\n",
       "      <td>BATHINDA</td>\n",
       "      <td>2.909091</td>\n",
       "      <td>11</td>\n",
       "    </tr>\n",
       "    <tr>\n",
       "      <th>13</th>\n",
       "      <td>AJMER</td>\n",
       "      <td>3.000000</td>\n",
       "      <td>10</td>\n",
       "    </tr>\n",
       "    <tr>\n",
       "      <th>371</th>\n",
       "      <td>GHAZIABAD</td>\n",
       "      <td>3.000000</td>\n",
       "      <td>40</td>\n",
       "    </tr>\n",
       "    <tr>\n",
       "      <th>237</th>\n",
       "      <td>CHENNAI</td>\n",
       "      <td>3.023810</td>\n",
       "      <td>84</td>\n",
       "    </tr>\n",
       "  </tbody>\n",
       "</table>\n",
       "</div>"
      ],
      "text/plain": [
       "     Customer_City  Average_CSAT  Number_Of_Responds\n",
       "355    GANDHINAGAR      2.454545                  11\n",
       "1125      VADODARA      2.533333                  30\n",
       "125         BARMER      2.700000                  10\n",
       "1131          VAPI      2.700000                  10\n",
       "172       BHIWANDI      2.750000                  12\n",
       "882         RAIPUR      2.857143                  14\n",
       "132       BATHINDA      2.909091                  11\n",
       "13           AJMER      3.000000                  10\n",
       "371      GHAZIABAD      3.000000                  40\n",
       "237        CHENNAI      3.023810                  84"
      ]
     },
     "execution_count": 21,
     "metadata": {},
     "output_type": "execute_result"
    }
   ],
   "source": [
    "bot_cities = avg_csat_by_city.sort_values(by='Average_CSAT', ascending=True)\n",
    "bot_cities = bot_cities[bot_cities['Number_Of_Responds'] >= 10]\n",
    "bot_cities.head(10)"
   ]
  },
  {
   "cell_type": "code",
   "execution_count": 22,
   "id": "631b011f",
   "metadata": {
    "execution": {
     "iopub.execute_input": "2024-11-26T20:19:22.495008Z",
     "iopub.status.busy": "2024-11-26T20:19:22.494622Z",
     "iopub.status.idle": "2024-11-26T20:19:22.514558Z",
     "shell.execute_reply": "2024-11-26T20:19:22.513432Z"
    },
    "papermill": {
     "duration": 0.036043,
     "end_time": "2024-11-26T20:19:22.517374",
     "exception": false,
     "start_time": "2024-11-26T20:19:22.481331",
     "status": "completed"
    },
    "tags": []
   },
   "outputs": [
    {
     "data": {
      "text/html": [
       "<div>\n",
       "<style scoped>\n",
       "    .dataframe tbody tr th:only-of-type {\n",
       "        vertical-align: middle;\n",
       "    }\n",
       "\n",
       "    .dataframe tbody tr th {\n",
       "        vertical-align: top;\n",
       "    }\n",
       "\n",
       "    .dataframe thead th {\n",
       "        text-align: right;\n",
       "    }\n",
       "</style>\n",
       "<table border=\"1\" class=\"dataframe\">\n",
       "  <thead>\n",
       "    <tr style=\"text-align: right;\">\n",
       "      <th></th>\n",
       "      <th>Agent Shift</th>\n",
       "      <th>Average_CSAT</th>\n",
       "      <th>Number_Of_Responds</th>\n",
       "    </tr>\n",
       "  </thead>\n",
       "  <tbody>\n",
       "    <tr>\n",
       "      <th>4</th>\n",
       "      <td>Split</td>\n",
       "      <td>4.004566</td>\n",
       "      <td>219</td>\n",
       "    </tr>\n",
       "    <tr>\n",
       "      <th>3</th>\n",
       "      <td>Night</td>\n",
       "      <td>3.886598</td>\n",
       "      <td>97</td>\n",
       "    </tr>\n",
       "    <tr>\n",
       "      <th>0</th>\n",
       "      <td>Afternoon</td>\n",
       "      <td>3.836842</td>\n",
       "      <td>380</td>\n",
       "    </tr>\n",
       "    <tr>\n",
       "      <th>1</th>\n",
       "      <td>Evening</td>\n",
       "      <td>3.730144</td>\n",
       "      <td>2216</td>\n",
       "    </tr>\n",
       "    <tr>\n",
       "      <th>2</th>\n",
       "      <td>Morning</td>\n",
       "      <td>3.664694</td>\n",
       "      <td>2872</td>\n",
       "    </tr>\n",
       "  </tbody>\n",
       "</table>\n",
       "</div>"
      ],
      "text/plain": [
       "  Agent Shift  Average_CSAT  Number_Of_Responds\n",
       "4       Split      4.004566                 219\n",
       "3       Night      3.886598                  97\n",
       "0   Afternoon      3.836842                 380\n",
       "1     Evening      3.730144                2216\n",
       "2     Morning      3.664694                2872"
      ]
     },
     "execution_count": 22,
     "metadata": {},
     "output_type": "execute_result"
    }
   ],
   "source": [
    "avg_csat_by_shift = df.groupby('Agent Shift').agg(Average_CSAT =('CSAT Score','mean'),Number_Of_Responds=('CSAT Score', 'count')).reset_index()\n",
    "top_shifts = avg_csat_by_shift.sort_values(by='Average_CSAT', ascending=False)\n",
    "top_shifts = top_shifts[top_shifts['Number_Of_Responds'] >= 10]\n",
    "top_shifts.head(10)"
   ]
  },
  {
   "cell_type": "code",
   "execution_count": 23,
   "id": "e7ecedeb",
   "metadata": {
    "execution": {
     "iopub.execute_input": "2024-11-26T20:19:22.548797Z",
     "iopub.status.busy": "2024-11-26T20:19:22.548365Z",
     "iopub.status.idle": "2024-11-26T20:19:22.572310Z",
     "shell.execute_reply": "2024-11-26T20:19:22.571156Z"
    },
    "papermill": {
     "duration": 0.040012,
     "end_time": "2024-11-26T20:19:22.575065",
     "exception": false,
     "start_time": "2024-11-26T20:19:22.535053",
     "status": "completed"
    },
    "tags": []
   },
   "outputs": [
    {
     "data": {
      "text/html": [
       "<div>\n",
       "<style scoped>\n",
       "    .dataframe tbody tr th:only-of-type {\n",
       "        vertical-align: middle;\n",
       "    }\n",
       "\n",
       "    .dataframe tbody tr th {\n",
       "        vertical-align: top;\n",
       "    }\n",
       "\n",
       "    .dataframe thead th {\n",
       "        text-align: right;\n",
       "    }\n",
       "</style>\n",
       "<table border=\"1\" class=\"dataframe\">\n",
       "  <thead>\n",
       "    <tr style=\"text-align: right;\">\n",
       "      <th></th>\n",
       "      <th>category</th>\n",
       "      <th>Average_CSAT</th>\n",
       "      <th>Number_Of_Responds</th>\n",
       "    </tr>\n",
       "  </thead>\n",
       "  <tbody>\n",
       "    <tr>\n",
       "      <th>8</th>\n",
       "      <td>Returns</td>\n",
       "      <td>3.881657</td>\n",
       "      <td>2873</td>\n",
       "    </tr>\n",
       "    <tr>\n",
       "      <th>7</th>\n",
       "      <td>Refund Related</td>\n",
       "      <td>3.736434</td>\n",
       "      <td>387</td>\n",
       "    </tr>\n",
       "    <tr>\n",
       "      <th>2</th>\n",
       "      <td>Offers &amp; Cashback</td>\n",
       "      <td>3.642857</td>\n",
       "      <td>14</td>\n",
       "    </tr>\n",
       "    <tr>\n",
       "      <th>3</th>\n",
       "      <td>Order Related</td>\n",
       "      <td>3.586053</td>\n",
       "      <td>2022</td>\n",
       "    </tr>\n",
       "    <tr>\n",
       "      <th>5</th>\n",
       "      <td>Payments related</td>\n",
       "      <td>3.500000</td>\n",
       "      <td>16</td>\n",
       "    </tr>\n",
       "    <tr>\n",
       "      <th>1</th>\n",
       "      <td>Feedback</td>\n",
       "      <td>3.450549</td>\n",
       "      <td>182</td>\n",
       "    </tr>\n",
       "    <tr>\n",
       "      <th>0</th>\n",
       "      <td>Cancellation</td>\n",
       "      <td>3.191011</td>\n",
       "      <td>267</td>\n",
       "    </tr>\n",
       "    <tr>\n",
       "      <th>4</th>\n",
       "      <td>Others</td>\n",
       "      <td>3.166667</td>\n",
       "      <td>12</td>\n",
       "    </tr>\n",
       "  </tbody>\n",
       "</table>\n",
       "</div>"
      ],
      "text/plain": [
       "            category  Average_CSAT  Number_Of_Responds\n",
       "8            Returns      3.881657                2873\n",
       "7     Refund Related      3.736434                 387\n",
       "2  Offers & Cashback      3.642857                  14\n",
       "3      Order Related      3.586053                2022\n",
       "5   Payments related      3.500000                  16\n",
       "1           Feedback      3.450549                 182\n",
       "0       Cancellation      3.191011                 267\n",
       "4             Others      3.166667                  12"
      ]
     },
     "execution_count": 23,
     "metadata": {},
     "output_type": "execute_result"
    }
   ],
   "source": [
    "avg_csat_by_category = df.groupby('category').agg(Average_CSAT =('CSAT Score','mean'),Number_Of_Responds=('CSAT Score', 'count')).reset_index()\n",
    "top_categories = avg_csat_by_category.sort_values(by='Average_CSAT', ascending=False)\n",
    "top_categories = top_categories[top_categories['Number_Of_Responds'] >= 10]\n",
    "top_categories.head(10)"
   ]
  },
  {
   "cell_type": "code",
   "execution_count": 24,
   "id": "f425def4",
   "metadata": {
    "execution": {
     "iopub.execute_input": "2024-11-26T20:19:22.606669Z",
     "iopub.status.busy": "2024-11-26T20:19:22.606263Z",
     "iopub.status.idle": "2024-11-26T20:19:22.625925Z",
     "shell.execute_reply": "2024-11-26T20:19:22.624817Z"
    },
    "papermill": {
     "duration": 0.036419,
     "end_time": "2024-11-26T20:19:22.629101",
     "exception": false,
     "start_time": "2024-11-26T20:19:22.592682",
     "status": "completed"
    },
    "tags": []
   },
   "outputs": [
    {
     "data": {
      "text/html": [
       "<div>\n",
       "<style scoped>\n",
       "    .dataframe tbody tr th:only-of-type {\n",
       "        vertical-align: middle;\n",
       "    }\n",
       "\n",
       "    .dataframe tbody tr th {\n",
       "        vertical-align: top;\n",
       "    }\n",
       "\n",
       "    .dataframe thead th {\n",
       "        text-align: right;\n",
       "    }\n",
       "</style>\n",
       "<table border=\"1\" class=\"dataframe\">\n",
       "  <thead>\n",
       "    <tr style=\"text-align: right;\">\n",
       "      <th></th>\n",
       "      <th>Sub-category</th>\n",
       "      <th>Average_CSAT</th>\n",
       "      <th>Number_Of_Responds</th>\n",
       "    </tr>\n",
       "  </thead>\n",
       "  <tbody>\n",
       "    <tr>\n",
       "      <th>26</th>\n",
       "      <td>Return cancellation</td>\n",
       "      <td>4.642857</td>\n",
       "      <td>14</td>\n",
       "    </tr>\n",
       "    <tr>\n",
       "      <th>14</th>\n",
       "      <td>Missing</td>\n",
       "      <td>4.519380</td>\n",
       "      <td>129</td>\n",
       "    </tr>\n",
       "    <tr>\n",
       "      <th>27</th>\n",
       "      <td>Return request</td>\n",
       "      <td>4.446677</td>\n",
       "      <td>647</td>\n",
       "    </tr>\n",
       "    <tr>\n",
       "      <th>9</th>\n",
       "      <td>Fraudulent User</td>\n",
       "      <td>4.295547</td>\n",
       "      <td>247</td>\n",
       "    </tr>\n",
       "    <tr>\n",
       "      <th>36</th>\n",
       "      <td>Unable to track</td>\n",
       "      <td>4.235294</td>\n",
       "      <td>17</td>\n",
       "    </tr>\n",
       "    <tr>\n",
       "      <th>5</th>\n",
       "      <td>Customer Requested Modifications</td>\n",
       "      <td>4.076923</td>\n",
       "      <td>26</td>\n",
       "    </tr>\n",
       "    <tr>\n",
       "      <th>39</th>\n",
       "      <td>Wrong</td>\n",
       "      <td>4.000000</td>\n",
       "      <td>188</td>\n",
       "    </tr>\n",
       "    <tr>\n",
       "      <th>24</th>\n",
       "      <td>Refund Enquiry</td>\n",
       "      <td>3.927184</td>\n",
       "      <td>206</td>\n",
       "    </tr>\n",
       "    <tr>\n",
       "      <th>22</th>\n",
       "      <td>Priority delivery</td>\n",
       "      <td>3.916667</td>\n",
       "      <td>84</td>\n",
       "    </tr>\n",
       "    <tr>\n",
       "      <th>17</th>\n",
       "      <td>Order status enquiry</td>\n",
       "      <td>3.803774</td>\n",
       "      <td>530</td>\n",
       "    </tr>\n",
       "  </tbody>\n",
       "</table>\n",
       "</div>"
      ],
      "text/plain": [
       "                        Sub-category  Average_CSAT  Number_Of_Responds\n",
       "26               Return cancellation      4.642857                  14\n",
       "14                           Missing      4.519380                 129\n",
       "27                    Return request      4.446677                 647\n",
       "9                    Fraudulent User      4.295547                 247\n",
       "36                   Unable to track      4.235294                  17\n",
       "5   Customer Requested Modifications      4.076923                  26\n",
       "39                             Wrong      4.000000                 188\n",
       "24                    Refund Enquiry      3.927184                 206\n",
       "22                 Priority delivery      3.916667                  84\n",
       "17              Order status enquiry      3.803774                 530"
      ]
     },
     "execution_count": 24,
     "metadata": {},
     "output_type": "execute_result"
    }
   ],
   "source": [
    "avg_csat_by_sub_category = df.groupby('Sub-category').agg(Average_CSAT =('CSAT Score','mean'),Number_Of_Responds=('CSAT Score', 'count')).reset_index()\n",
    "top_sub_categories = avg_csat_by_sub_category.sort_values(by='Average_CSAT', ascending=False)\n",
    "top_sub_categories = top_sub_categories[top_sub_categories['Number_Of_Responds'] >= 10]\n",
    "top_sub_categories.head(10)"
   ]
  },
  {
   "cell_type": "code",
   "execution_count": 25,
   "id": "53df36ed",
   "metadata": {
    "execution": {
     "iopub.execute_input": "2024-11-26T20:19:22.661629Z",
     "iopub.status.busy": "2024-11-26T20:19:22.661234Z",
     "iopub.status.idle": "2024-11-26T20:19:22.684491Z",
     "shell.execute_reply": "2024-11-26T20:19:22.683285Z"
    },
    "papermill": {
     "duration": 0.039521,
     "end_time": "2024-11-26T20:19:22.686843",
     "exception": false,
     "start_time": "2024-11-26T20:19:22.647322",
     "status": "completed"
    },
    "tags": []
   },
   "outputs": [
    {
     "data": {
      "text/html": [
       "<div>\n",
       "<style scoped>\n",
       "    .dataframe tbody tr th:only-of-type {\n",
       "        vertical-align: middle;\n",
       "    }\n",
       "\n",
       "    .dataframe tbody tr th {\n",
       "        vertical-align: top;\n",
       "    }\n",
       "\n",
       "    .dataframe thead th {\n",
       "        text-align: right;\n",
       "    }\n",
       "</style>\n",
       "<table border=\"1\" class=\"dataframe\">\n",
       "  <thead>\n",
       "    <tr style=\"text-align: right;\">\n",
       "      <th></th>\n",
       "      <th>Sub-category</th>\n",
       "      <th>Average_CSAT</th>\n",
       "      <th>Number_Of_Responds</th>\n",
       "    </tr>\n",
       "  </thead>\n",
       "  <tbody>\n",
       "    <tr>\n",
       "      <th>34</th>\n",
       "      <td>Technician Visit</td>\n",
       "      <td>2.108696</td>\n",
       "      <td>46</td>\n",
       "    </tr>\n",
       "    <tr>\n",
       "      <th>10</th>\n",
       "      <td>General Enquiry</td>\n",
       "      <td>2.578947</td>\n",
       "      <td>19</td>\n",
       "    </tr>\n",
       "    <tr>\n",
       "      <th>8</th>\n",
       "      <td>Exchange / Replacement</td>\n",
       "      <td>3.046154</td>\n",
       "      <td>65</td>\n",
       "    </tr>\n",
       "    <tr>\n",
       "      <th>15</th>\n",
       "      <td>Not Needed</td>\n",
       "      <td>3.110672</td>\n",
       "      <td>253</td>\n",
       "    </tr>\n",
       "    <tr>\n",
       "      <th>11</th>\n",
       "      <td>Installation/demo</td>\n",
       "      <td>3.242938</td>\n",
       "      <td>177</td>\n",
       "    </tr>\n",
       "    <tr>\n",
       "      <th>35</th>\n",
       "      <td>UnProfessional Behaviour</td>\n",
       "      <td>3.450549</td>\n",
       "      <td>182</td>\n",
       "    </tr>\n",
       "    <tr>\n",
       "      <th>29</th>\n",
       "      <td>Seller Cancelled Order</td>\n",
       "      <td>3.451613</td>\n",
       "      <td>31</td>\n",
       "    </tr>\n",
       "    <tr>\n",
       "      <th>7</th>\n",
       "      <td>Delayed</td>\n",
       "      <td>3.500000</td>\n",
       "      <td>1108</td>\n",
       "    </tr>\n",
       "    <tr>\n",
       "      <th>25</th>\n",
       "      <td>Refund Related Issues</td>\n",
       "      <td>3.547486</td>\n",
       "      <td>179</td>\n",
       "    </tr>\n",
       "    <tr>\n",
       "      <th>6</th>\n",
       "      <td>Damaged</td>\n",
       "      <td>3.580645</td>\n",
       "      <td>31</td>\n",
       "    </tr>\n",
       "  </tbody>\n",
       "</table>\n",
       "</div>"
      ],
      "text/plain": [
       "                Sub-category  Average_CSAT  Number_Of_Responds\n",
       "34          Technician Visit      2.108696                  46\n",
       "10           General Enquiry      2.578947                  19\n",
       "8     Exchange / Replacement      3.046154                  65\n",
       "15                Not Needed      3.110672                 253\n",
       "11         Installation/demo      3.242938                 177\n",
       "35  UnProfessional Behaviour      3.450549                 182\n",
       "29    Seller Cancelled Order      3.451613                  31\n",
       "7                    Delayed      3.500000                1108\n",
       "25     Refund Related Issues      3.547486                 179\n",
       "6                    Damaged      3.580645                  31"
      ]
     },
     "execution_count": 25,
     "metadata": {},
     "output_type": "execute_result"
    }
   ],
   "source": [
    "avg_csat_by_sub_category = df.groupby('Sub-category').agg(Average_CSAT =('CSAT Score','mean'),Number_Of_Responds=('CSAT Score', 'count')).reset_index()\n",
    "bot_sub_categories = avg_csat_by_sub_category.sort_values(by='Average_CSAT', ascending=True)\n",
    "bot_sub_categories = bot_sub_categories[bot_sub_categories['Number_Of_Responds'] >= 10]\n",
    "bot_sub_categories.head(10)"
   ]
  },
  {
   "cell_type": "code",
   "execution_count": 26,
   "id": "ab1e03ba",
   "metadata": {
    "execution": {
     "iopub.execute_input": "2024-11-26T20:19:22.714531Z",
     "iopub.status.busy": "2024-11-26T20:19:22.714102Z",
     "iopub.status.idle": "2024-11-26T20:19:22.737745Z",
     "shell.execute_reply": "2024-11-26T20:19:22.736475Z"
    },
    "papermill": {
     "duration": 0.040165,
     "end_time": "2024-11-26T20:19:22.739955",
     "exception": false,
     "start_time": "2024-11-26T20:19:22.699790",
     "status": "completed"
    },
    "tags": []
   },
   "outputs": [
    {
     "data": {
      "text/html": [
       "<div>\n",
       "<style scoped>\n",
       "    .dataframe tbody tr th:only-of-type {\n",
       "        vertical-align: middle;\n",
       "    }\n",
       "\n",
       "    .dataframe tbody tr th {\n",
       "        vertical-align: top;\n",
       "    }\n",
       "\n",
       "    .dataframe thead th {\n",
       "        text-align: right;\n",
       "    }\n",
       "</style>\n",
       "<table border=\"1\" class=\"dataframe\">\n",
       "  <thead>\n",
       "    <tr style=\"text-align: right;\">\n",
       "      <th></th>\n",
       "      <th>Product_category</th>\n",
       "      <th>Average_CSAT</th>\n",
       "      <th>Number_Of_Responds</th>\n",
       "    </tr>\n",
       "  </thead>\n",
       "  <tbody>\n",
       "    <tr>\n",
       "      <th>0</th>\n",
       "      <td>Affiliates</td>\n",
       "      <td>4.120690</td>\n",
       "      <td>58</td>\n",
       "    </tr>\n",
       "    <tr>\n",
       "      <th>7</th>\n",
       "      <td>LifeStyle</td>\n",
       "      <td>3.941221</td>\n",
       "      <td>1327</td>\n",
       "    </tr>\n",
       "    <tr>\n",
       "      <th>2</th>\n",
       "      <td>Electronics</td>\n",
       "      <td>3.902265</td>\n",
       "      <td>1678</td>\n",
       "    </tr>\n",
       "    <tr>\n",
       "      <th>1</th>\n",
       "      <td>Books &amp; General merchandise</td>\n",
       "      <td>3.764098</td>\n",
       "      <td>1064</td>\n",
       "    </tr>\n",
       "    <tr>\n",
       "      <th>5</th>\n",
       "      <td>Home</td>\n",
       "      <td>3.521628</td>\n",
       "      <td>393</td>\n",
       "    </tr>\n",
       "    <tr>\n",
       "      <th>6</th>\n",
       "      <td>Home Appliences</td>\n",
       "      <td>3.322034</td>\n",
       "      <td>472</td>\n",
       "    </tr>\n",
       "    <tr>\n",
       "      <th>8</th>\n",
       "      <td>Mobile</td>\n",
       "      <td>3.228013</td>\n",
       "      <td>614</td>\n",
       "    </tr>\n",
       "    <tr>\n",
       "      <th>3</th>\n",
       "      <td>Furniture</td>\n",
       "      <td>3.075581</td>\n",
       "      <td>172</td>\n",
       "    </tr>\n",
       "  </tbody>\n",
       "</table>\n",
       "</div>"
      ],
      "text/plain": [
       "              Product_category  Average_CSAT  Number_Of_Responds\n",
       "0                   Affiliates      4.120690                  58\n",
       "7                    LifeStyle      3.941221                1327\n",
       "2                  Electronics      3.902265                1678\n",
       "1  Books & General merchandise      3.764098                1064\n",
       "5                         Home      3.521628                 393\n",
       "6              Home Appliences      3.322034                 472\n",
       "8                       Mobile      3.228013                 614\n",
       "3                    Furniture      3.075581                 172"
      ]
     },
     "execution_count": 26,
     "metadata": {},
     "output_type": "execute_result"
    }
   ],
   "source": [
    "avg_csat_by_product_category = df.groupby('Product_category').agg(Average_CSAT =('CSAT Score','mean'),Number_Of_Responds=('CSAT Score', 'count')).reset_index()\n",
    "top_product_categories = avg_csat_by_product_category.sort_values(by='Average_CSAT', ascending=False)\n",
    "top_product_categories = top_product_categories[top_product_categories['Number_Of_Responds'] >= 10]\n",
    "top_product_categories.head(10)"
   ]
  },
  {
   "cell_type": "code",
   "execution_count": 27,
   "id": "529cea7f",
   "metadata": {
    "execution": {
     "iopub.execute_input": "2024-11-26T20:19:22.768229Z",
     "iopub.status.busy": "2024-11-26T20:19:22.767599Z",
     "iopub.status.idle": "2024-11-26T20:19:23.450641Z",
     "shell.execute_reply": "2024-11-26T20:19:23.449430Z"
    },
    "papermill": {
     "duration": 0.701136,
     "end_time": "2024-11-26T20:19:23.454210",
     "exception": false,
     "start_time": "2024-11-26T20:19:22.753074",
     "status": "completed"
    },
    "tags": []
   },
   "outputs": [
    {
     "data": {
      "image/png": "[encoded data removed]",
      "text/plain": [
       "<Figure size 1000x600 with 2 Axes>"
      ]
     },
     "metadata": {},
     "output_type": "display_data"
    }
   ],
   "source": [
    "\n",
    "dissatisfied_df = df[df['CSAT Score'] < 3]\n",
    "sub_category_counts = dissatisfied_df['Sub-category'].value_counts().reset_index()\n",
    "sub_category_counts.columns = ['Sub-category', 'count']\n",
    "sub_category_counts['cumulative_percentage'] = sub_category_counts['count'].cumsum() / sub_category_counts['count'].sum() * 100\n",
    "sub_category_counts = sub_category_counts.reset_index(drop=True)\n",
    "\n",
    "fig, ax = plt.subplots(figsize=(10, 6))\n",
    "ax.bar(sub_category_counts['Sub-category'], sub_category_counts['count'], color='steelblue', label='Count')\n",
    "\n",
    "ax2 = ax.twinx()\n",
    "ax2.plot(\n",
    "    range(len(sub_category_counts)),\n",
    "    sub_category_counts['cumulative_percentage'], \n",
    "    color='red', \n",
    "    marker=\"D\", \n",
    "    ms=4,\n",
    "    label='Cumulative Percentage'\n",
    ")\n",
    "\n",
    "ax2.set_ylim(0, 100)\n",
    "ax2.set_ylabel('Cumulative Percentage (%)', color='red')\n",
    "ax.set_xticks(range(len(sub_category_counts)))\n",
    "ax.set_xticklabels(sub_category_counts['Sub-category'], rotation=45, ha='right')\n",
    "ax.tick_params(axis='y', colors='steelblue')\n",
    "ax2.tick_params(axis='y', colors='red')\n",
    "ax.legend(loc='upper left')\n",
    "ax2.legend(loc='upper right')\n",
    "\n",
    "plt.tight_layout()\n",
    "plt.show()\n"
   ]
  },
  {
   "cell_type": "code",
   "execution_count": 28,
   "id": "1d3ee45b",
   "metadata": {
    "execution": {
     "iopub.execute_input": "2024-11-26T20:19:23.488646Z",
     "iopub.status.busy": "2024-11-26T20:19:23.488115Z",
     "iopub.status.idle": "2024-11-26T20:19:23.989914Z",
     "shell.execute_reply": "2024-11-26T20:19:23.988884Z"
    },
    "papermill": {
     "duration": 0.521494,
     "end_time": "2024-11-26T20:19:23.992658",
     "exception": false,
     "start_time": "2024-11-26T20:19:23.471164",
     "status": "completed"
    },
    "tags": []
   },
   "outputs": [
    {
     "name": "stderr",
     "output_type": "stream",
     "text": [
      "/tmp/ipykernel_17/1911820419.py:29: UserWarning: FixedFormatter should only be used together with FixedLocator\n",
      "  ax.set_xticklabels(category_counts['category'], rotation=45, ha='right')\n"
     ]
    },
    {
     "data": {
      "image/png": "[encoded data removed]",
      "text/plain": [
       "<Figure size 1500x600 with 2 Axes>"
      ]
     },
     "metadata": {},
     "output_type": "display_data"
    }
   ],
   "source": [
    "#PARETO for category\n",
    "dissatisfied_df = df[df['CSAT Score'] < 3]\n",
    "category_counts = dissatisfied_df['category'].value_counts().reset_index()\n",
    "category_counts.columns = ['category', 'count']\n",
    "category_counts = category_counts.sort_values(by='count', ascending=False)\n",
    "\n",
    "category_counts['cumulative_percentage'] = (\n",
    "    category_counts['count'].cumsum() / category_counts['count'].sum()\n",
    ") * 100\n",
    "\n",
    "color1 = 'steelblue'\n",
    "color2 = 'red'\n",
    "line_size = 4\n",
    "\n",
    "fig, ax = plt.subplots(figsize=(15, 6))  \n",
    "ax.bar(category_counts['category'], category_counts['count'], color=color1)\n",
    "\n",
    "ax2 = ax.twinx()\n",
    "ax2.plot(\n",
    "    category_counts.index,  # Użyj indeksu kategorii\n",
    "    category_counts['cumulative_percentage'], \n",
    "    color=color2, \n",
    "    marker=\"D\", \n",
    "    ms=line_size\n",
    ")\n",
    "ax.set_ylabel('CSAT Score below 3', color=color1) \n",
    "ax2.set_ylabel('Cumulative Percentage (%)', color=color2) \n",
    "\n",
    "ax.set_xticklabels(category_counts['category'], rotation=45, ha='right')\n",
    "\n",
    "ax.tick_params(axis='y', colors=color1)\n",
    "ax2.tick_params(axis='y', colors=color2)\n",
    "\n",
    "plt.show()"
   ]
  },
  {
   "cell_type": "code",
   "execution_count": null,
   "id": "98d232a8",
   "metadata": {
    "papermill": {
     "duration": 0.016403,
     "end_time": "2024-11-26T20:19:24.025718",
     "exception": false,
     "start_time": "2024-11-26T20:19:24.009315",
     "status": "completed"
    },
    "tags": []
   },
   "outputs": [],
   "source": []
  }
 ],
 "metadata": {
  "kaggle": {
   "accelerator": "none",
   "dataSources": [
    {
     "datasetId": 4500074,
     "sourceId": 7731107,
     "sourceType": "datasetVersion"
    }
   ],
   "dockerImageVersionId": 30786,
   "isGpuEnabled": false,
   "isInternetEnabled": true,
   "language": "python",
   "sourceType": "notebook"
  },
  "kernelspec": {
   "display_name": "Python 3",
   "language": "python",
   "name": "python3"
  },
  "language_info": {
   "codemirror_mode": {
    "name": "ipython",
    "version": 3
   },
   "file_extension": ".py",
   "mimetype": "text/x-python",
   "name": "python",
   "nbconvert_exporter": "python",
   "pygments_lexer": "ipython3",
   "version": "3.10.14"
  },
  "papermill": {
   "default_parameters": {},
   "duration": 23.376839,
   "end_time": "2024-11-26T20:19:24.763619",
   "environment_variables": {},
   "exception": null,
   "input_path": "__notebook__.ipynb",
   "output_path": "__notebook__.ipynb",
   "parameters": {},
   "start_time": "2024-11-26T20:19:01.386780",
   "version": "2.6.0"
  }
 },
 "nbformat": 4,
 "nbformat_minor": 5
}
